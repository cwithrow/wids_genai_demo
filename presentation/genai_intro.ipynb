{
 "cells": [
  {
   "cell_type": "markdown",
   "id": "10768c58-a7b7-4ace-817b-86ad00b706ae",
   "metadata": {
    "slideshow": {
     "slide_type": "slide"
    },
    "tags": []
   },
   "source": [
    "# Women in Data Science - DC\n",
    "## Workshop on GenAI\n",
    "\n",
    "Candice Withrow, LMI, 5/6/2024"
   ]
  },
  {
   "cell_type": "markdown",
   "id": "2c9aad19-7376-4073-ba70-e8c57a1ff287",
   "metadata": {
    "slideshow": {
     "slide_type": "slide"
    },
    "tags": []
   },
   "source": [
    "# About me\n",
    "- Data Science Consultant at LMI\n",
    "- MS in CS, physics/engr undergrad\n",
    "    - 1st language: HTML in 2000\n",
    "    - *Favorite language:* [Shakespeare Programming Language](https://en.wikipedia.org/wiki/Shakespeare_Programming_Language)\n",
    "\n",
    "**Generative AI experience:** \n",
    "Recently implemented RAG/GenAI to help with a JIRA based Help Desk bot to draft answers to customer questions by searching policy documents, FAQs, and past tickets."
   ]
  },
  {
   "cell_type": "markdown",
   "id": "5722a598-208b-41c9-ad5b-3f357cc00f6e",
   "metadata": {
    "slideshow": {
     "slide_type": "slide"
    },
    "tags": []
   },
   "source": [
    "## Workshop Goals:  \n",
    " - What is it? \n",
    " - When should I use it? How to mitigate risks?\n",
    " - *How* do I use it?\n",
    " \n",
    " We'll be using a Python AI library, Cohere\n"
   ]
  },
  {
   "cell_type": "markdown",
   "id": "4f6e4272-ba81-40d2-bdba-41ade520af79",
   "metadata": {
    "slideshow": {
     "slide_type": "subslide"
    },
    "tags": []
   },
   "source": [
    " \n",
    " This will be a beginner tutorial \n",
    " - Will not cover model evaluation or tuning\n",
    " - Will not cover image generation"
   ]
  },
  {
   "cell_type": "markdown",
   "id": "a294e196-03ab-4ee8-bf55-d0141860c642",
   "metadata": {
    "slideshow": {
     "slide_type": "slide"
    },
    "tags": []
   },
   "source": [
    "# What is Gen AI?\n",
    "Generative AI is a term for technology that leverages a pre-trained Large Language Model (LLM) to take in a query and return human sounding, relevant answers. \n"
   ]
  },
  {
   "cell_type": "markdown",
   "id": "8ac22ffd-2a07-426b-9a5c-ca5584fd6841",
   "metadata": {
    "slideshow": {
     "slide_type": "subslide"
    },
    "tags": []
   },
   "source": [
    "## AI has been around for awhile- what's the big deal? \n",
    "Early AI--> Heuristic, human-made rules and strategies.\n",
    " \n",
    "Machine learning--> machine determines patterns from  data and makes rules\n",
    " \n",
    "How do you find the most reliable patterns? Throw more data at it! Enter LLMs."
   ]
  },
  {
   "cell_type": "markdown",
   "id": "7070ef3c-399a-41e8-b343-1ec4832faa7b",
   "metadata": {
    "slideshow": {
     "slide_type": "subslide"
    },
    "tags": []
   },
   "source": [
    "## LLMs are trained on VERY large natural language datasets \n",
    "LLMs use a deep learning algorithm to characterize human language, match passages and relationships similar to a given query, and can be used to translate or infer what the next token/word is given a prompt.\n",
    "\n",
    "LLMs are computationally intense, and are usually hosted on single servers. To interact with them an API is used, usually with at least two endpoints.\n",
    "\n"
   ]
  },
  {
   "cell_type": "markdown",
   "id": "d01f8c1c-f4b8-448f-98aa-4757b0c622d2",
   "metadata": {
    "slideshow": {
     "slide_type": "subslide"
    },
    "tags": []
   },
   "source": [
    "## LLM Endpoints\n",
    "LLMs are computationally intense, and are usually hosted on single servers. To interact with them an API is used, usually with at least two endpoints.\n",
    "\n",
    "\n",
    "- Completion endpoints will basically predict what follows the query. \n",
    "    I.e., a query of \"The capital of Belgium is\" will return \"Brussels\", completing the sentence. \n",
    "    - A simple string is sent, including any instructions to the LLM and additional context.\n",
    "- Chat completion endpoints are optimized (often trained specifically) for question/answer conversations and may require specific prompt formatting or allow more parameters. They may be faster/cheaper than completion models, but can produce less relevant results."
   ]
  },
  {
   "cell_type": "markdown",
   "id": "9c5e1e57-3057-4744-b6d4-1d4a21d8439e",
   "metadata": {
    "slideshow": {
     "slide_type": "slide"
    },
    "tags": []
   },
   "source": [
    "# Benefits and Risks\n",
    "\n",
    "LLMs have been helpful in medical research, education and other fields.\n",
    "\n",
    "For most people and businesses, the potential benefits of generative AI are for increased productivity:\n",
    "\n",
    "- summarizing research\n",
    "- automating solutions for customer questions\n",
    "- helping write or learn more efficiently\n",
    "\n",
    "However, there are risks and concerns."
   ]
  },
  {
   "cell_type": "markdown",
   "id": "279b0923-ae50-4c23-bcf7-8c45fda935c1",
   "metadata": {
    "slideshow": {
     "slide_type": "skip"
    },
    "tags": []
   },
   "source": [
    "### \"..Your scientists were so preoccupied with whether or not they could that they didn't stop to think if they should.\"\n",
    "      -Dr. Ian Malcolm, Jurassic Park"
   ]
  },
  {
   "cell_type": "markdown",
   "id": "98a602f3-44b5-4664-9068-0bcfc2d2d6fe",
   "metadata": {
    "slideshow": {
     "slide_type": "slide"
    },
    "tags": []
   },
   "source": [
    "![DrIanMalcolmQuote:Your scientists were so preoccupied with whether or not they could that they didn't stop to think if they should.](drIanMalcolm_quote.jpeg)"
   ]
  },
  {
   "cell_type": "markdown",
   "id": "3cc28f4e-0c34-45c2-818d-5551857a7a05",
   "metadata": {
    "slideshow": {
     "slide_type": "slide"
    },
    "tags": []
   },
   "source": [
    "## Ethical and Practical Concerns\n",
    "- Energy use and costs; climate impact\n",
    "    - One interaction consumes as much energy as running an LED bulb on low for 1 hour\n",
    "- Impact on jobs and economy\n",
    "- Copyright issues\n",
    "- Bias in training data leading to misogynistic or discriminatory conclusions and speech\n",
    "- Privacy of data sent to LLMs\n",
    "- Misinformation and hallucinations (generation of sentences with no direct basis in the training data)\n",
    "- Flat out wrong answers"
   ]
  },
  {
   "cell_type": "markdown",
   "id": "a4acd573-6618-4950-b9e8-cfaca99723ef",
   "metadata": {
    "slideshow": {
     "slide_type": "slide"
    },
    "tags": []
   },
   "source": [
    "![A review by user Mary from the YardleyYarn Etsy store (www.etsy.com)](etsy_review.png)\n",
    "See [Alex's Chapman's Medium article](https://medium.com/@alex.chapman93/people-are-using-ai-to-sell-fake-items-on-etsy-b550001563fe)"
   ]
  },
  {
   "cell_type": "markdown",
   "id": "defcdf44-ed7d-4957-b2b7-f4817de298c2",
   "metadata": {
    "slideshow": {
     "slide_type": "slide"
    },
    "tags": []
   },
   "source": [
    "# Ethical and Practical Concerns\n",
    "- Energy use and costs; climate impact\n",
    "    - One interaction consumes as much energy as running an LED bulb on low for 1 hour\n",
    "- *Impact on jobs and economy*\n",
    "- *Copyright issues*\n",
    "- Bias in training data leading to misogynistic or discriminatory conclusions and speech\n",
    "- Privacy of data sent to LLMs\n",
    "- Misinformation and hallucinations (generation of sentences with no direct basis in the training data)\n",
    "- Flat out wrong answers"
   ]
  },
  {
   "cell_type": "markdown",
   "id": "c720a7e7-a15d-4937-9ed3-1cfb7b30a450",
   "metadata": {
    "slideshow": {
     "slide_type": "slide"
    },
    "tags": []
   },
   "source": [
    "# Risk mitigation\n",
    "\n",
    "| Concern | Solution |\n",
    "| --- | --- | \n",
    "| Energy use | Use lighter, more efficient models; limit hours servers are running if privately hosting; Consider if the task is worth the energy use (read the docs vs asking ChatGPT) |\n",
    "| Bias in data | Use LLMs with transparent data statements containing toxicity evaluations and safety benchmarks; avoid LLMs with unfiltered data |\n",
    "| Data privacy | Host LLMms and embeddings on private servers (locally, AWS, etc) |\n",
    "| Hallucinations and wrong answers | Supplement queries with relevant documents using Retrieval Augmented Generation (RAG); provide citations |\n",
    "\n",
    "See resources for more information\n"
   ]
  },
  {
   "cell_type": "markdown",
   "id": "2237fcc2-cf28-4496-be98-19347bcffebd",
   "metadata": {
    "slideshow": {
     "slide_type": "slide"
    },
    "tags": []
   },
   "source": [
    "## Retrieval Augmented Generation \n",
    "Send query to LLM with additional context from documents\n",
    "![RAG with Chatbot](cohere_rag-chatbot-citations.png)\n",
    "from [Cohere- Getting starting with RAG](https://cohere.com/blog/rag-start#rag-with-cohere)\n",
    "\n",
    "There's a limit to how much an LLM can receive in the query/prompt (varies with model), and throwing all the docs you have at it isn't very efficient!\n"
   ]
  },
  {
   "cell_type": "markdown",
   "id": "d02f7c4c-4946-4b6d-b9c0-e0318cb1aea8",
   "metadata": {
    "slideshow": {
     "slide_type": "slide"
    },
    "tags": []
   },
   "source": [
    "# RAG with Embedders\n",
    "- Embed large set of documents\n",
    "- Send query to the embedder to retrieve similar document chunks\n",
    "- Use a reranker to weight the most relevant\n",
    "- Send those chunks with the query to the LLM\n",
    "![Diagram of vectorized document collection for retrieval](cohere_rag-components_embedder.png)\n",
    "from [Cohere- Getting starting with RAG](https://cohere.com/blog/rag-start#rag-with-cohere)\n"
   ]
  },
  {
   "cell_type": "markdown",
   "id": "fc421bdf-102f-4ff1-a47f-6bfe2275b428",
   "metadata": {
    "slideshow": {
     "slide_type": "subslide"
    },
    "tags": []
   },
   "source": [
    "# Why Cohere?\n",
    " - Enterprise focused, AI platform built on meeting client needs\n",
    " - Easy to use, RAG enabled Chat bot with its own reranker\n",
    " - Clear data statement and [environmental impact statement](https://docs.cohere.com/docs/environmental-impact)\n",
    " - Has a free course and many tutorials! [Cohere LLM University](https://docs.cohere.com/docs/llmu)"
   ]
  },
  {
   "cell_type": "markdown",
   "id": "04395330-3a5b-4b06-b4cb-88ffc40505f5",
   "metadata": {
    "slideshow": {
     "slide_type": "slide"
    },
    "tags": []
   },
   "source": [
    "![Demo](demo_logo.png)\n"
   ]
  },
  {
   "cell_type": "markdown",
   "id": "27542190-7f99-4996-84d0-4924bb3f3527",
   "metadata": {
    "slideshow": {
     "slide_type": "slide"
    },
    "tags": []
   },
   "source": [
    "## Resources\n",
    "- Learning\n",
    "    - [WiDS GenAI Demo Repo](https://github.com/cwithrow/wids_genai_demo)\n",
    "    - Quick intro [Introduction to Large language models](https://attri.ai/blog/introduction-to-large-language-models)\n",
    "    - Free course! [Cohere LLM University](https://docs.cohere.com/docs/llmu)\n",
    "- Toxicity in data\n",
    "    - Cohere's [Data statement](https://docs.cohere.com/docs/data-statement#document-curation)\n",
    "        - [toxicity results](https://web.archive.org/web/20240128010239/https://docs.cohere.com/docs/generation-card) (current site is 404) \n",
    "    - [Bias Evaluation from HuggingFace](https://huggingface.co/blog/evaluating-llm-bias)\n",
    "    - [BOLD: Dataset and Metrics for Measuring Biases in\n",
    "Open-Ended Language Generation](https://arxiv.org/abs/2101.11718)\n",
    "- Environmental impact\n",
    "    - [Generative AI’s Energy Problem Today Is Foundational](https://spectrum.ieee.org/ai-energy-consumption)\n",
    "    - [AI’s Climate Impact Goes beyond Its Emissions](https://www.scientificamerican.com/article/ais-climate-impact-goes-beyond-its-emissions/)\n",
    "- Privacy\n",
    "    - Set up your own private LLM! (generally need ~15 GB free RAM) [Private GPT](https://github.com/zylon-ai/private-gpt)\n",
    "    - [ChatGPT private mode](https://www.digitaltrends.com/computing/chatgp-private-mode-how-to-use/)\n",
    "- General AI impact\n",
    "    - [Stanford Human-Centered AI](https://hai.stanford.edu/)\n"
   ]
  },
  {
   "cell_type": "markdown",
   "id": "09628e80-19e0-422c-a141-387a4f8ace73",
   "metadata": {
    "slideshow": {
     "slide_type": "slide"
    },
    "tags": []
   },
   "source": [
    "# Thank you!\n",
    "Contact: candice.withrow@gmail.com"
   ]
  }
 ],
 "metadata": {
  "kernelspec": {
   "display_name": "cohere_demo",
   "language": "python",
   "name": "cohere_demo"
  },
  "language_info": {
   "codemirror_mode": {
    "name": "ipython",
    "version": 3
   },
   "file_extension": ".py",
   "mimetype": "text/x-python",
   "name": "python",
   "nbconvert_exporter": "python",
   "pygments_lexer": "ipython3",
   "version": "3.10.0"
  }
 },
 "nbformat": 4,
 "nbformat_minor": 5
}

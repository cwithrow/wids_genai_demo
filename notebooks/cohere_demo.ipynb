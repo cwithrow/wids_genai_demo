{
 "cells": [
  {
   "cell_type": "markdown",
   "id": "53ffa143-66c3-4d95-a8fe-abf96fe6e530",
   "metadata": {},
   "source": [
    "This notebook is adapted from Cohere's notebook on using a [RAG enabled Chatbot](https://github.com/cohere-ai/notebooks/blob/main/notebooks/llmu/RAG_with_Chat_Embed_and_Rerank.ipynb?ref=cohere-ai.ghost.io) for the WiDS GenAI workshop.\n",
    "\n",
    "We will use Cohere's streaming chat bot, then add documents and received citations for which are used to answer the query. "
   ]
  },
  {
   "cell_type": "code",
   "execution_count": 1,
   "id": "dc06cebc-cb67-47ca-8add-220181fd17a7",
   "metadata": {},
   "outputs": [],
   "source": [
    "import cohere\n",
    "import config\n",
    "import os\n",
    "os.chdir(\"..\")\n",
    "\n",
    "co = cohere.Client(config.COHERE_KEY) \n"
   ]
  },
  {
   "cell_type": "code",
   "execution_count": 2,
   "id": "2c727aae-0803-4088-86a1-0a4574bb2b32",
   "metadata": {
    "tags": []
   },
   "outputs": [
    {
     "data": {
      "text/plain": [
       "'C:\\\\Users\\\\cwithrow\\\\repos\\\\ai_demo'"
      ]
     },
     "execution_count": 2,
     "metadata": {},
     "output_type": "execute_result"
    }
   ],
   "source": [
    "pwd"
   ]
  },
  {
   "cell_type": "markdown",
   "id": "e7a03738-fdf9-487e-b324-869e4dca569e",
   "metadata": {},
   "source": [
    "## Quick Example"
   ]
  },
  {
   "cell_type": "code",
   "execution_count": 3,
   "id": "fb0ac82c-bfd4-4fe6-9cb4-6b45fda46236",
   "metadata": {},
   "outputs": [],
   "source": [
    "documents = [\n",
    "    {\n",
    "        \"title\": \"Tall penguins\",\n",
    "        \"text\": \"Emperor penguins are the tallest.\"},\n",
    "    {\n",
    "        \"title\": \"Penguin habitats\",\n",
    "        \"text\": \"Emperor penguins only live in Antarctica.\"},\n",
    "    {\n",
    "        \"title\": \"What are animals?\",\n",
    "        \"text\": \"Animals are different from plants.\"}\n",
    "]"
   ]
  },
  {
   "cell_type": "code",
   "execution_count": 4,
   "id": "1cb1208b-df0a-4996-843b-59181e94fdce",
   "metadata": {},
   "outputs": [
    {
     "name": "stdout",
     "output_type": "stream",
     "text": [
      "The tallest living penguins are Emperor penguins. They are native to Antarctica.\n",
      "\n",
      "CITATIONS:\n",
      "start=32 end=49 text='Emperor penguins.' document_ids=['doc_0']\n",
      "start=59 end=80 text='native to Antarctica.' document_ids=['doc_1']\n",
      "\n",
      "DOCUMENTS:\n",
      "{'id': 'doc_0', 'text': 'Emperor penguins are the tallest.', 'title': 'Tall penguins'}\n",
      "{'id': 'doc_1', 'text': 'Emperor penguins only live in Antarctica.', 'title': 'Penguin habitats'}\n"
     ]
    }
   ],
   "source": [
    "# Get the user message\n",
    "message = \"What are the tallest living penguins?\"\n",
    "\n",
    "\n",
    "# Generate the response\n",
    "response = co.chat_stream(message=message,\n",
    "                          model=\"command-r-plus\",\n",
    "                          documents=documents)\n",
    "\n",
    "# Display the response\n",
    "citations = []\n",
    "cited_documents = []\n",
    "\n",
    "for event in response:\n",
    "    if event.event_type == \"text-generation\":\n",
    "        print(event.text, end=\"\")\n",
    "    elif event.event_type == \"citation-generation\":\n",
    "        citations.extend(event.citations)\n",
    "    elif event.event_type == \"stream-end\":\n",
    "        cited_documents = event.response.documents\n",
    "\n",
    "# Display the citations and source documents\n",
    "if citations:\n",
    "  print(\"\\n\\nCITATIONS:\")\n",
    "  for citation in citations:\n",
    "    print(citation)\n",
    "\n",
    "  print(\"\\nDOCUMENTS:\")\n",
    "  for document in cited_documents:\n",
    "    print(document)"
   ]
  },
  {
   "cell_type": "markdown",
   "id": "0db0f877-927c-4804-8eeb-7ac1ad241086",
   "metadata": {},
   "source": [
    "## Vitamin studies example\n",
    "Document chunking strategy can be a project in its own, with differing strategies. To keep this demo simple we will use text stored in a csv, from the National Health Institute's public database on vitamin and supplement studies. Other use cases for text in csv could be question and answer data from past customer interactions, a personal health journal or scraped forum data.\n",
    "\n",
    "**Note:** The following example is used primarily because the data is public, and a good model of how RAG can improve generation. A more effective use case is when working with private documents such as internal policy docs, protected health information or customer service chat histories (using a private LLM) that models do not generally have access to."
   ]
  },
  {
   "cell_type": "markdown",
   "id": "410aaa16-ef02-4983-a427-475fa1e12a50",
   "metadata": {},
   "source": [
    "### Prep data\n",
    "\n",
    "Data exported from NIH CARDS database searching for various vitamins, supplements and restricted to human studies: https://cards.od.nih.gov/Application/Search"
   ]
  },
  {
   "cell_type": "code",
   "execution_count": 5,
   "id": "b36af64c-0f8e-4d81-89f4-06e15bfff2da",
   "metadata": {},
   "outputs": [],
   "source": [
    "import pandas as pd\n",
    "pd.set_option(\"max_colwidth\", 300)"
   ]
  },
  {
   "cell_type": "code",
   "execution_count": 6,
   "id": "149105e2-cbb6-4f68-973b-46eccfea1bb6",
   "metadata": {},
   "outputs": [],
   "source": [
    "studies_df=pd.read_csv('./data/nih_vitamin_studies.csv').drop('Unnamed: 13',axis=1)"
   ]
  },
  {
   "cell_type": "code",
   "execution_count": 7,
   "id": "aab2fc86-d116-4539-981f-799f90b6e64f",
   "metadata": {},
   "outputs": [
    {
     "data": {
      "text/html": [
       "<div>\n",
       "<style scoped>\n",
       "    .dataframe tbody tr th:only-of-type {\n",
       "        vertical-align: middle;\n",
       "    }\n",
       "\n",
       "    .dataframe tbody tr th {\n",
       "        vertical-align: top;\n",
       "    }\n",
       "\n",
       "    .dataframe thead th {\n",
       "        text-align: right;\n",
       "    }\n",
       "</style>\n",
       "<table border=\"1\" class=\"dataframe\">\n",
       "  <thead>\n",
       "    <tr style=\"text-align: right;\">\n",
       "      <th></th>\n",
       "      <th>Type</th>\n",
       "      <th>Activity Code</th>\n",
       "      <th>Project ID</th>\n",
       "      <th>Project Title</th>\n",
       "      <th>SubProject ID</th>\n",
       "      <th>Project End Date</th>\n",
       "      <th>Investigator Names</th>\n",
       "      <th>Country</th>\n",
       "      <th>Total Dollars Amount</th>\n",
       "      <th>Fiscal Year</th>\n",
       "      <th>Funding IC</th>\n",
       "      <th>Project Abstract</th>\n",
       "      <th>Public Health Relevance</th>\n",
       "    </tr>\n",
       "  </thead>\n",
       "  <tbody>\n",
       "    <tr>\n",
       "      <th>0</th>\n",
       "      <td>5</td>\n",
       "      <td>K23</td>\n",
       "      <td>DK084115</td>\n",
       "      <td>Investigations into the Glutamine-Citruline-Arginine Pathway in Sepsis</td>\n",
       "      <td>NaN</td>\n",
       "      <td>31-Dec-2015</td>\n",
       "      <td>Kao, Christina</td>\n",
       "      <td>UNITED STATES</td>\n",
       "      <td>171885</td>\n",
       "      <td>2014</td>\n",
       "      <td>DK</td>\n",
       "      <td>DESCRIPTION (provided by applicant):   Dr. Christina Kao is an assistant professor in the Section of Pulmonary, Critical Care, and Sleep Medicine at Baylor College of Medicine (BCM). Her short-term goal is to develop the knowledge and skills to conduct metabolic research using stable isotope ...</td>\n",
       "      <td>PUBLIC HEALTH RELEVANCE: Two compounds, arginine and glutamine, help our body fight severe infections. This research will help to better define the relationship between these two compounds and will determine if supplying more of one (glutamine) will in turn lead to increases in the other (argini...</td>\n",
       "    </tr>\n",
       "    <tr>\n",
       "      <th>1</th>\n",
       "      <td>5</td>\n",
       "      <td>R01</td>\n",
       "      <td>HD072120</td>\n",
       "      <td>Early Childhood Development for the Poor: Impacting at Scale</td>\n",
       "      <td>NaN</td>\n",
       "      <td>31-May-2018</td>\n",
       "      <td>Meghir, Konstantinos</td>\n",
       "      <td>UNITED STATES</td>\n",
       "      <td>427218</td>\n",
       "      <td>2014</td>\n",
       "      <td>HD</td>\n",
       "      <td>DESCRIPTION (provided by applicant): Neurobiological science has established that the first three years of life lay the basis for lifelong outcomes. But during this life-cycle stage children living in poverty are often vulnerable to negative influences including malnutrition, illnesses, an ...</td>\n",
       "      <td>PUBLIC HEALTH RELEVANCE: By identifying cost-effective and scalable early-years interventions, our research has the potential to revolutionize early childhood development (ECD) policies and contribute to breaking the intergenerational cycle of poverty. If the interventions we  propose to test pr...</td>\n",
       "    </tr>\n",
       "  </tbody>\n",
       "</table>\n",
       "</div>"
      ],
      "text/plain": [
       "   Type Activity Code Project ID  \\\n",
       "0     5           K23   DK084115   \n",
       "1     5           R01   HD072120   \n",
       "\n",
       "                                                            Project Title  \\\n",
       "0  Investigations into the Glutamine-Citruline-Arginine Pathway in Sepsis   \n",
       "1            Early Childhood Development for the Poor: Impacting at Scale   \n",
       "\n",
       "   SubProject ID Project End Date     Investigator Names        Country  \\\n",
       "0            NaN      31-Dec-2015        Kao, Christina   UNITED STATES   \n",
       "1            NaN      31-May-2018  Meghir, Konstantinos   UNITED STATES   \n",
       "\n",
       "   Total Dollars Amount  Fiscal Year Funding IC  \\\n",
       "0                171885         2014         DK   \n",
       "1                427218         2014         HD   \n",
       "\n",
       "                                                                                                                                                                                                                                                                                              Project Abstract  \\\n",
       "0     DESCRIPTION (provided by applicant):   Dr. Christina Kao is an assistant professor in the Section of Pulmonary, Critical Care, and Sleep Medicine at Baylor College of Medicine (BCM). Her short-term goal is to develop the knowledge and skills to conduct metabolic research using stable isotope ...   \n",
       "1       DESCRIPTION (provided by applicant): Neurobiological science has established that the first three years of life lay the basis for lifelong outcomes. But during this life-cycle stage children living in poverty are often vulnerable to negative influences including malnutrition, illnesses, an ...   \n",
       "\n",
       "                                                                                                                                                                                                                                                                                       Public Health Relevance  \n",
       "0  PUBLIC HEALTH RELEVANCE: Two compounds, arginine and glutamine, help our body fight severe infections. This research will help to better define the relationship between these two compounds and will determine if supplying more of one (glutamine) will in turn lead to increases in the other (argini...  \n",
       "1  PUBLIC HEALTH RELEVANCE: By identifying cost-effective and scalable early-years interventions, our research has the potential to revolutionize early childhood development (ECD) policies and contribute to breaking the intergenerational cycle of poverty. If the interventions we  propose to test pr...  "
      ]
     },
     "execution_count": 7,
     "metadata": {},
     "output_type": "execute_result"
    }
   ],
   "source": [
    "studies_df.head(2)"
   ]
  },
  {
   "cell_type": "code",
   "execution_count": 8,
   "id": "416ab0a0-2c12-48fd-8aeb-ee4c777b17e8",
   "metadata": {},
   "outputs": [],
   "source": [
    "studies_df=studies_df.fillna('')"
   ]
  },
  {
   "cell_type": "code",
   "execution_count": 9,
   "id": "793ce207-2d92-4ab6-ad40-d5d846fb1adf",
   "metadata": {},
   "outputs": [],
   "source": [
    "# Limit to key data columns and keep project ID and Investator Names for later citation reference\n",
    "studies_df=studies_df[['Project Title','Project ID','Investigator Names','Project Abstract']]"
   ]
  },
  {
   "cell_type": "code",
   "execution_count": 10,
   "id": "a12c46bc-611f-4012-ac15-119ac45aa89d",
   "metadata": {},
   "outputs": [],
   "source": [
    "# Convert to list of dictionaries for Cohere API\n",
    "documents=studies_df.to_dict('records')"
   ]
  },
  {
   "cell_type": "code",
   "execution_count": 11,
   "id": "81873244-edb8-4b65-8577-1f61befb32b0",
   "metadata": {
    "scrolled": true
   },
   "outputs": [
    {
     "data": {
      "text/plain": [
       "{'Project Title': 'Biological and Environmental modifiers of Vitamin D3 and Prostate Cancer Risk',\n",
       " 'Project ID': 'MD007105',\n",
       " 'Investigator Names': 'KITTLES, RICK Antonius',\n",
       " 'Project Abstract': ' ABSTRACT Disparities in prostate cancer (Pca) are caused by complex interactions of genetic susceptibility, individual risk factors, and environmental factors. Pca is the second leading cause of death among all men; however African American (AA) men have the highest mortality rate of Pca of any racial/ethnic group in the U.S. This difference in mortality accounts for 44% of the overall cancer mortality disparity between AA and European-American (EA) men. Thus, there is a critical need to explore the etiologic pathways that contribute to this disparity. Unfortunately, the only well-established risk factors (age, race and family history) for Pca are non-modifiable. However recent studies have found low levels of vitamin D have been associated with increased Pca risk, and treatment with vitamin D has reduced Pca disease progression in multiple studies. These studies support the hypothesis that vitamin D deficiency increases the risk of Pca and that vitamin D is a potential chemopreventive and therapeutic agent. Although genetic and environmental factors including common low penetrant alleles, diet, body mass index (BMI), and vitamin D levels may affect risk, their significance and multiple joint effects are unclear. Extensive data exists in support of a critical role for Vitamin D3 [25(OH) vitamin D] on Pca risk. However, it is difficult to determine its importance mainly because Vitamin D is synthesized in the skin, and serum levels are strongly influenced by skin color, genetic ancestry, age, BMI, and environmental factors such as sunlight exposure and diet. The goal of this project is to explore the effects of serum Vitamin D, UVR exposure, skin color, age, BMI, and genes involved in Vitamin D synthesis, metabolism and signaling on Pca and aggressive Pca risk in a study of 2,000 AA and 2,000 EA men. Men aged 40-79 will be recruited from a consortium of Chicago hospitals including, the University Illinois at Chicago Hospital System, University of Chicago Medical Center, Northwestern Memorial Hospital, John H. Stroger Cook County Hospital, and the Jesse Brown Veteran Affairs Medical Center. This project will improve our understanding of the role Vitamin D plays on prostate cancer susceptibility, specifically among African Americans, and if lower vitamin D levels in AAs account for a portion of the disparity in Pca incidence and mortality between AAs and EAs. More importantly, given that UVR and diet are general environmental exposures that can be easily modified, understanding their impact may have broad health implications.'}"
      ]
     },
     "execution_count": 11,
     "metadata": {},
     "output_type": "execute_result"
    }
   ],
   "source": [
    "# Sample\n",
    "documents[15]"
   ]
  },
  {
   "cell_type": "markdown",
   "id": "ac02ee00-8b38-4733-8c73-09c45513e88c",
   "metadata": {},
   "source": [
    "### Question without documents\n",
    "First let's ask some questions without supplying any additional context."
   ]
  },
  {
   "cell_type": "code",
   "execution_count": 12,
   "id": "e78f830b-e73b-476a-849b-3f938a0a5fa5",
   "metadata": {},
   "outputs": [],
   "source": [
    "# Get the user message\n",
    "message = \"What is the research on vitamin D and cancer?\"\n",
    "\n",
    "# Generate the response\n",
    "response = co.chat_stream(message=message,\n",
    "                          model=\"command-r-plus\",)"
   ]
  },
  {
   "cell_type": "code",
   "execution_count": 13,
   "id": "f3a7ab98-fc90-48f7-bd56-e15f19b5f242",
   "metadata": {},
   "outputs": [
    {
     "name": "stdout",
     "output_type": "stream",
     "text": [
      "Vitamin D is a fat-soluble vitamin that is essential for maintaining bone health and has also been studied for its potential role in cancer prevention and treatment. Here is an overview of the current research on vitamin D and cancer:\n",
      "\n",
      "**1. Vitamin D and Cancer Prevention:**\n",
      "\n",
      "   - Some observational studies have suggested an association between low levels of vitamin D and an increased risk of certain types of cancer, including colorectal, breast, and prostate cancer. However, it is important to note that these studies do not prove causation.\n",
      "   - A 2019 review of randomized controlled trials found that vitamin D supplementation did not significantly reduce the risk of developing cancer, except for a possible small reduction in the risk of lung cancer.\n",
      "   - More research is needed to understand the potential role of vitamin D in cancer prevention, including the optimal dose and the potential benefits for specific populations.\n",
      "\n",
      "**2. Vitamin D and Cancer Treatment:**\n",
      "\n",
      "   - In vitro and animal studies have suggested that vitamin D may have anti-cancer properties, including the ability to inhibit cancer cell growth and promote cancer cell death.\n",
      "   - However, the evidence from human studies is limited and inconsistent. Some small studies have suggested that vitamin D supplementation may improve survival rates in certain types of cancer, while others have found no significant benefit.\n",
      "   - More large, well-designed clinical trials are needed to determine the effectiveness of vitamin D as a complementary therapy for cancer treatment.\n",
      "\n",
      "**3. Mechanisms of Action:**\n",
      "\n",
      "   - Vitamin D is believed to have anti-cancer effects through several mechanisms, including regulating cell growth and differentiation, inhibiting angiogenesis (the formation of new blood vessels that supply tumors), and modulating the immune system.\n",
      "   - Vitamin D receptors are present in many types of cells, including cancer cells, and activation of these receptors by vitamin D may contribute to its anti-cancer effects.\n",
      "\n",
      "In summary, while there is ongoing research on the potential role of vitamin D in cancer prevention and treatment, the current evidence is inconclusive. It is important for individuals to discuss their vitamin D intake and cancer risk with their healthcare provider, as excessive vitamin D supplementation can have adverse effects."
     ]
    }
   ],
   "source": [
    "for event in response:\n",
    "    if event.event_type == \"text-generation\":\n",
    "        print(event.text, end=\"\")\n",
    "    elif event.event_type == \"citation-generation\":\n",
    "        citations.extend(event.citations)\n"
   ]
  },
  {
   "cell_type": "markdown",
   "id": "fb1ce250-3747-4407-ae75-753cb57f5e2a",
   "metadata": {},
   "source": [
    "### Send bulk documents directly with question\n",
    "Vitamin D deficiency is a pretty well studied condition, so the results above aren't bad, but they do not provide sources. Let's directly send the same question along with some documents as context."
   ]
  },
  {
   "cell_type": "code",
   "execution_count": 14,
   "id": "91236cb9-23fa-487b-9fb5-f99082a0abec",
   "metadata": {},
   "outputs": [],
   "source": [
    "# Get the user message\n",
    "message = \"What is the research on vitamin D and cancer?\"\n",
    "\n",
    "# Generate the response\n",
    "response = co.chat_stream(message=message,\n",
    "                          model=\"command-r-plus\",\n",
    "                          documents=documents[:20] # doesn't handle more than this many\n",
    "                         )"
   ]
  },
  {
   "cell_type": "code",
   "execution_count": 15,
   "id": "bcd8f4fb-bb37-476d-9145-5166fef2e761",
   "metadata": {
    "scrolled": true
   },
   "outputs": [
    {
     "name": "stdout",
     "output_type": "stream",
     "text": [
      "There are several research projects that look into the relationship between vitamin D and cancer. Here are some of them:\n",
      "- The VITamin D and OmegA-3 TriaL (VITAL) is an NIH-supported, large, randomized, double-blind, placebo-controlled, 2x2 factorial trial that will test 2000 IU/day of vitamin D (as vitamin D3) and 1 g/day of marine I-3 FA (eicosapentaenoic acid [EPA] + docosahexaenoic acid [DHA]) supplements on incident cardiovascular disease and cancer in 20,000 multiethnic men and women with 5 years of treatment and follow-up.\n",
      "- A project titled \"Vitamin D, Steroids, and Asthma in African American Youth\" looks at the contribution of vitamin D to disparities in the chronic control and acute severity of asthma in urban African American youth.\n",
      "- A project titled \"Biological and Environmental modifiers of Vitamin D3 and Prostate Cancer Risk\" explores the effects of serum Vitamin D, UVR exposure, skin color, age, BMI, and genes involved in Vitamin D synthesis, metabolism, and signaling on prostate cancer risk in a study of 2,000 African American and 2,000 European-American men.\n",
      "- A project titled \"Vitamin D status and HIV-related complications in children and young adults\" investigates the impact of vitamin D deficiency in the HIV population and whether optimizing vitamin D status with oral supplementation in HIV-infected individuals may improve the risk of HIV-related complications.\n",
      "- A project titled \"Impact of vitamin D supplementation on cardiometabolic risk in schoolchildren\" aims to determine the appropriate vitamin D supplementation requirements for children living at northern latitudes to maintain optimal serum levels of 25-hydroxyvitamin D and minimize cardiometabolic risk.\n",
      "- A project titled \"Vitamin D and Vascular Function in Obese Children\" investigates the impact of vitamin D replenishment in vitamin D-deficient obese and overweight children on their cardiometabolic health and vascular function.\n",
      "\n",
      "CITATIONS:\n",
      "start=127 end=162 text='VITamin D and OmegA-3 TriaL (VITAL)' document_ids=['doc_4']\n",
      "start=169 end=182 text='NIH-supported' document_ids=['doc_4']\n",
      "start=184 end=256 text='large, randomized, double-blind, placebo-controlled, 2x2 factorial trial' document_ids=['doc_4']\n",
      "start=272 end=412 text='2000 IU/day of vitamin D (as vitamin D3) and 1 g/day of marine I-3 FA (eicosapentaenoic acid [EPA] + docosahexaenoic acid [DHA]) supplements' document_ids=['doc_4']\n",
      "start=416 end=535 text='incident cardiovascular disease and cancer in 20,000 multiethnic men and women with 5 years of treatment and follow-up.' document_ids=['doc_4']\n",
      "start=555 end=614 text='\"Vitamin D, Steroids, and Asthma in African American Youth\"' document_ids=['doc_13']\n",
      "start=628 end=753 text='contribution of vitamin D to disparities in the chronic control and acute severity of asthma in urban African American youth.' document_ids=['doc_13']\n",
      "start=773 end=852 text='\"Biological and Environmental modifiers of Vitamin D3 and Prostate Cancer Risk\"' document_ids=['doc_15']\n",
      "start=866 end=1092 text='effects of serum Vitamin D, UVR exposure, skin color, age, BMI, and genes involved in Vitamin D synthesis, metabolism, and signaling on prostate cancer risk in a study of 2,000 African American and 2,000 European-American men.' document_ids=['doc_15']\n",
      "start=1112 end=1189 text='\"Vitamin D status and HIV-related complications in children and young adults\"' document_ids=['doc_5']\n",
      "start=1207 end=1259 text='impact of vitamin D deficiency in the HIV population' document_ids=['doc_5']\n",
      "start=1272 end=1404 text='optimizing vitamin D status with oral supplementation in HIV-infected individuals may improve the risk of HIV-related complications.' document_ids=['doc_5']\n",
      "start=1424 end=1503 text='\"Impact of vitamin D supplementation on cardiometabolic risk in schoolchildren\"' document_ids=['doc_8', 'doc_9']\n",
      "start=1512 end=1709 text='determine the appropriate vitamin D supplementation requirements for children living at northern latitudes to maintain optimal serum levels of 25-hydroxyvitamin D and minimize cardiometabolic risk.' document_ids=['doc_8', 'doc_9']\n",
      "start=1729 end=1780 text='\"Vitamin D and Vascular Function in Obese Children\"' document_ids=['doc_10', 'doc_11', 'doc_12']\n",
      "start=1798 end=1939 text='impact of vitamin D replenishment in vitamin D-deficient obese and overweight children on their cardiometabolic health and vascular function.' document_ids=['doc_10', 'doc_11', 'doc_12']\n",
      "\n",
      "DOCUMENTS:\n",
      "{'Investigator Names': 'FORMAN, JOHN P; SESSO, HOWARD D', 'Project Abstract': '   DESCRIPTION (provided by applicant): The human toll of hypertension (HTN) is staggering, and effective preventive measures are needed. Experimental studies suggest that inadequate vitamin D and I-3 fatty acid (FA) levels may be involved in the pathogenesis of HTN through multiple biological mechanisms. Observational studies have shown inverse associations of plasma 25-hydroxyvitamin D (25[OH]D) levels and dietary I-3 FA intake with blood pressure (BP) and HTN. Small intervention trials of vitamin D and fish oil rich in I-3 FA suggest possible BP-lowering effects; however, larger trials using adequately high doses of vitamin D and I-3 FA for the primary prevention of HTN are lacking. The VITamin D and OmegA-3 TriaL (VITAL), an NIH-supported, large, randomized, double-blind, placebo-controlled, 2x2 factorial trial, will test 2000 IU/day of vitamin D (as vitamin D3 [cholecalciferol]) and 1 g/day of marine I-3 FA (eicosapentaenoic acid [EPA] + docosahexaenoic acid [DHA]) supplements on incident cardiovascular disease and cancer in 20,000 multiethnic men and women with 5 years of treatment and follow-up. VITAL provides an optimal cost-effective setting to examine the effects of both interventions on changes in BP and incident HTN. Further, as this project would begin in parallel with enrollment into the parent VITAL trial, pre-randomization assessments of BP and biomarkers will be possible. In this proposed ancillary study, we will recruit a representative subcohort of 1,000 VITAL participants without baseline HTN from 5 major US metropolitan areas to conduct home-based examinations at baseline and 2 years follow-up through Examination Management Services, Inc (EMSI). We will obtain 24-hour ambulatory BP (ABP), fasting bloods, 24-hour urines, and other clinical assessments in this EMSI subcohort. We will also ascertain incident HTN cases in the overall VITAL trial. We will test the following hypotheses: (1) whether vitamin D and fish oil supplementation lowers 24-hour ABP compared to placebo in the EMSI subcohort of 1,000 participants; (2) whether vitamin D and fish oil supplementation reduces the risk of incident HTN compared to placebo among all randomized VITAL participants without baseline HTN; and (3) whether vitamin D and fish oil supplementation favorably changes HTN-related biomarkers that are putative mechanistic mediators linking vitamin D and I-3 FAs with HTN compared to placebo. This proposed study will provide definitive evidence to support or refute the potential preventive roles of vitamin D and I-3 FA on BP and the development of HTN.      ', 'Project ID': 'HL102122-04', 'Project Title': 'Effect of Vitamin D and Omega-3 Fatty Acids on Blood Pressure and Hypertension', 'id': 'doc_4'}\n",
      "{'Investigator Names': 'FREISHTAT, ROBERT J', 'Project Abstract': ' Abstract  Further studies are urgently needed in order to identify effective and sustainable strategies for reducing the dramatic health disparities experienced by disadvantaged, urban, and minority youth with asthma. Vitamin D deficiency is more common among African American (AA) individuals, especially those from urban environments or with obesity. We and others have contributed to increasing evidence that vitamin D insufficiency may contribute to more severe asthma through increased risk of respiratory infection and decreased glucocorticoid sensitivity. Indeed, low vitamin D levels were recently linked with the need for exogenous glucocorticoids and increased asthma severity. Particularly relevant to health disparities, we showed a strong association between vitamin D insufficiency and asthma in urban African American (AA) youth. Because AA youth residing in urban Washington, DC have markedly worse asthma than other racial/ethnic groups (e.g. prevalence rate 20% higher than the national rate 15 and emergency department utilization rates up to 5 times the national rates and nearly 10 times the Healthy People 2010 target rate), we will utilize our access to this population at the extreme of asthma disparities to examine the contribution of vitamin D to disparities in the chronic control and acute severity of asthma. The overall goal of this application is to provide critical epidemiological/molecular information that will inform the interpretation of ongoing and impending randomized clinical trials of vitamin D supplementation in asthma, especially with regard to urban AA youth with asthma. The knowledge generated by the experiments in this application will be crucial to translation of this inexpensive, easily-accessible potential therapy for asthma. We hypothesize that low serum 25-hydroxyvitamin D [25(OH)D] levels are associated with poor chronic asthma control, worse acute asthma severity, and glucocorticoid insensitivity. AIM 1. Define asthma phenotypic clusters and determine cross- sectional inter- and intra-cluster associations with serum 25(OH)D levels within and between AA and non-AA youth. AIM 2. Determine prospective associations among serum 25(OH)D levels and: (a) chronic asthma control and (b) acute asthma severity within and between AA and non-AA youth. AIM 3. Show the effect of vitamin D on glucorticoid regulation of inflammatory mediators in asthmatic airway epithelial cells.', 'Project ID': 'MD007075', 'Project Title': 'Vitamin D, Steroids, and Asthma in African American Youth', 'id': 'doc_13'}\n",
      "{'Investigator Names': 'KITTLES, RICK Antonius', 'Project Abstract': ' ABSTRACT Disparities in prostate cancer (Pca) are caused by complex interactions of genetic susceptibility, individual risk factors, and environmental factors. Pca is the second leading cause of death among all men; however African American (AA) men have the highest mortality rate of Pca of any racial/ethnic group in the U.S. This difference in mortality accounts for 44% of the overall cancer mortality disparity between AA and European-American (EA) men. Thus, there is a critical need to explore the etiologic pathways that contribute to this disparity. Unfortunately, the only well-established risk factors (age, race and family history) for Pca are non-modifiable. However recent studies have found low levels of vitamin D have been associated with increased Pca risk, and treatment with vitamin D has reduced Pca disease progression in multiple studies. These studies support the hypothesis that vitamin D deficiency increases the risk of Pca and that vitamin D is a potential chemopreventive and therapeutic agent. Although genetic and environmental factors including common low penetrant alleles, diet, body mass index (BMI), and vitamin D levels may affect risk, their significance and multiple joint effects are unclear. Extensive data exists in support of a critical role for Vitamin D3 [25(OH) vitamin D] on Pca risk. However, it is difficult to determine its importance mainly because Vitamin D is synthesized in the skin, and serum levels are strongly influenced by skin color, genetic ancestry, age, BMI, and environmental factors such as sunlight exposure and diet. The goal of this project is to explore the effects of serum Vitamin D, UVR exposure, skin color, age, BMI, and genes involved in Vitamin D synthesis, metabolism and signaling on Pca and aggressive Pca risk in a study of 2,000 AA and 2,000 EA men. Men aged 40-79 will be recruited from a consortium of Chicago hospitals including, the University Illinois at Chicago Hospital System, University of Chicago Medical Center, Northwestern Memorial Hospital, John H. Stroger Cook County Hospital, and the Jesse Brown Veteran Affairs Medical Center. This project will improve our understanding of the role Vitamin D plays on prostate cancer susceptibility, specifically among African Americans, and if lower vitamin D levels in AAs account for a portion of the disparity in Pca incidence and mortality between AAs and EAs. More importantly, given that UVR and diet are general environmental exposures that can be easily modified, understanding their impact may have broad health implications.', 'Project ID': 'MD007105', 'Project Title': 'Biological and Environmental modifiers of Vitamin D3 and Prostate Cancer Risk', 'id': 'doc_15'}\n",
      "{'Investigator Names': 'Eckard, Allison ', 'Project Abstract': \"    DESCRIPTION (provided by applicant): Vitamin D is critical in many physiologic and pathophysiologic processes including inflammatory status, immune function, and cardiovascular health. Vitamin D deficiency is widespread among HIV-infected adults and children. This is particularly alarming since there is a higher risk than the general population for complications like osteoporosis, non-AIDS-defining malignancies, and cardiovascular disease (CVD) - all diseases associated with vitamin D deficiency. It is not known how much vitamin D deficiency heightens the risk of complications like CVD, affects immune function and disease progression, or interferes with optimal treatment in the HIV population. The impact of vitamin D deficiency in the HIV population may be compounded even further since the etiology of HIV-related complications like CVD is thought to be related in part to inflammation and detrimental endothelial effects associated with chronic HIV infection-similar proposed mechanisms as vitamin D deficiency. Data suggest that optimal vitamin D status may be protective against these HIV-related complications, and optimizing vitamin D status with oral supplementation in HIV-infected individuals may improve the risk of HIV-related complications by decreasing inflammation and/or improving endothelial dysfunction, and may improve immune function even in individuals on antiretroviral therapy. Developing suitable repletion strategies is crucial to maximizing health status, particularly in HIV-infected children and young adults, where an opportunity exists for disease prevention. However, the best method of vitamin D repletion is not known, and data suggest that some antiretroviral medications interfere with vitamin D metabolism. Thus, we hypothesize that (1) optimizing vitamin D status to the current Institute of Medicine's (IOM) suggested 25-hydroxyvitamin D (25(OH)D) concentration of e20 ng/mL improves CVD risk, inflammation, and CD4 cell counts in HIV-infected individuals, (2) increasing 25(OH)D concentrations to >30 ng/mL improves CVD risk and inflammation to a greater degree than increasing eto 20 ng/mL (the concentration some experts consider optimal for cardiovascular health), and (3) a 'high dose' of oral vitamin D is necessary to achieve 25(OH)D concentrations >30 ng/mL. These hypotheses will be addressed by determining the longitudinal relationships between serum 25(OH)D concentrations, carotid intima-media thickness, pulse wave velocity, pro-inflammatory biomarkers, and CD4 cell counts in HIV-infected children and young adults in a double-blinded, randomized-controlled trial of three different vitamin D dosing regimens given over 24 months in HIV-infected children and young adults (ages 10-25 years) with vitamin D deficiency (25(OH)D <20 ng/mL). We will also evaluate the 25(OH)D concentrations from each arm after 6, 12, and 24 months of supplementation, in order to determine a dose-response relationship. These findings could have a sizable impact on health in this population, since vitamin D therapy is inexpensive and associated with few adverse side effects. The PI is an exceptional candidate who is a pediatric infectious diseases specialist with a proven research focus in the metabolic and cardiovascular complications of HIV. She is mentored by a committed, multidisciplinary team of senior investigators with extensive experience in both mentoring and in the research methodologies relevant to this proposal. Future training in all aspects of clinical research, cardiovascular disease risk assessment, and clinical nutrition is planned to facilitate the PI's development into a successful independent physician scientist.        \", 'Project ID': 'HD069199', 'Project Title': 'Vitamin D status and HIV-related complications in children and young adults', 'id': 'doc_5'}\n",
      "{'Investigator Names': 'Sacheck, Jennifer ', 'Project Abstract': \"   DESCRIPTION (provided by applicant): Vitamin D deficiency has been linked to the development of cardiovascular disease and it is estimated that six million children are currently vitamin D deficient. As it is difficult for many children to consume the new recommended intake of 400 IU/d set forth by the American Academy of Pediatrics, many have suggested that vitamin D supplementation is necessary. Vitamin D deficiency is even more common in northern latitudes, amongst some minority groups with darker skin pigmentation, and in those who are overweight or obese. In these groups, higher supplemental doses may be needed to maintain optimal serum levels and to prevent cardiovascular risk. The overall objective of the proposed work is to determine the appropriate vitamin D supplementation requirements for children living at northern latitudes (above 42Z) to maintain optimal serum levels of 25-hydroxyvitamin D [25(OH)D] and minimize cardiometabolic risk. We will also investigate for the first time in a randomized controlled trial what happens to serum 25(OH)D and cardiometabolic risk factors after supplementation is discontinued. Fourth-eight grade children from socioeconomically disadvantaged and racially diverse communities with high obesity rates in the northeastern U.S. will be randomized to 400 IU, 1000 IU, or 2000 IU/d for six months starting in the early winter. Serum 25(OH)D and cardiometabolic risk factors (blood lipids and glucose) will be measured at baseline prior to supplementation, at 3- and 6-months, and then again 6 months following the discontinuation of supplementation. Adiposity, physical activity, dietary intake of vitamin D, and sun exposure will also be assessed at these times. Results of this work will inform the development of evidence-based recommendations and guidelines regarding vitamin D supplementation to maintain optimal 25(OH)D levels and to reduce cardiometabolic risk. If vitamin D repletion has the potential to improve the cardiometabolic risk profile during childhood, then we will ultimately be able to lower a child's risk of developing cardiovascular disease in adulthood.      \", 'Project ID': 'HL106160', 'Project Title': 'Impact of vitamin D supplementation on cardiometabolic risk in schoolchildren', 'id': 'doc_8'}\n",
      "{'Investigator Names': 'Sacheck, Jennifer ', 'Project Abstract': \"   DESCRIPTION (provided by applicant): Vitamin D deficiency has been linked to the development of cardiovascular disease and it is estimated that six million children are currently vitamin D deficient. As it is difficult for many children to consume the new recommended intake of 400 IU/d set forth by the American Academy of Pediatrics, many have suggested that vitamin D supplementation is necessary. Vitamin D deficiency is even more common in northern latitudes, amongst some minority groups with darker skin pigmentation, and in those who are overweight or obese. In these groups, higher supplemental doses may be needed to maintain optimal serum levels and to prevent cardiovascular risk. The overall objective of the proposed work is to determine the appropriate vitamin D supplementation requirements for children living at northern latitudes (above 42Z) to maintain optimal serum levels of 25-hydroxyvitamin D [25(OH)D] and minimize cardiometabolic risk. We will also investigate for the first time in a randomized controlled trial what happens to serum 25(OH)D and cardiometabolic risk factors after supplementation is discontinued. Fourth-eight grade children from socioeconomically disadvantaged and racially diverse communities with high obesity rates in the northeastern U.S. will be randomized to 400 IU, 1000 IU, or 2000 IU/d for six months starting in the early winter. Serum 25(OH)D and cardiometabolic risk factors (blood lipids and glucose) will be measured at baseline prior to supplementation, at 3- and 6-months, and then again 6 months following the discontinuation of supplementation. Adiposity, physical activity, dietary intake of vitamin D, and sun exposure will also be assessed at these times. Results of this work will inform the development of evidence-based recommendations and guidelines regarding vitamin D supplementation to maintain optimal 25(OH)D levels and to reduce cardiometabolic risk. If vitamin D repletion has the potential to improve the cardiometabolic risk profile during childhood, then we will ultimately be able to lower a child's risk of developing cardiovascular disease in adulthood.      \", 'Project ID': 'HL106160', 'Project Title': 'Impact of vitamin D supplementation on cardiometabolic risk in schoolchildren', 'id': 'doc_9'}\n",
      "{'Investigator Names': 'RAJAKUMAR, KUMARAVEL ', 'Project Abstract': '     DESCRIPTION (provided by applicant): Vitamin D deficiency is emerging as an independent risk factor for subclinical vascular dysfunction, metabolic syndrome, and later cardiovascular disease (CVD) in children. Obese children (BMI 95th percentile) and overweight children (BMI 85th-94th percentile) exhibit CVD risk factors and a relatively high prevalence of hypovitaminosis D, and their atherogenic risks track from childhood to adulthood. Therefore, vitamin D replenishment in vitamin D-deficient obese and overweight children has the potential to improve their cardiometabolic health and reduce their risk of CVD later in life. In this proposa, we will test the central hypothesis that enhancement of vitamin D status in such children will improve their vascular health and their CVD and metabolic syndrome risk profile. Our primary objective is to determine, in obese and overweight children aged 10 to 18 years with vitamin D deficiency (defined as serum 25-hydroxyvitamin D <20 ng/mL), the efficacy of enhanced vitamin D3 supplementation in improving vascular endothelial function, arterial stiffness, insulin sensitivity, and metabolic syndrome risk status; and to assess whether these effects are dose- dependent. As a secondary objective, we will examine the vitamin D supplementation-induced effect on adipokines and inflammatory markers relevant to CVD risk. In a double-masked, controlled trial, we will randomize 252 eligible children to receive either 600 IU (conventional supplementation), or 1000 IU or 2000 IU (enhanced supplementation) of vitamin D3 daily for 6 months. Study outcome measures, assessed at baseline, 3 and 6 months, will include (1) brachial artery flow-mediated dilation (FMD) as a measure of vascular endothelial function; (2) pulse wave velocity as a measure of arterial stiffness; (3) surrogate estimates of insulin sensitivity (fasting glucose/fasting insulin ratio or Homeostasis Model of Assessment - Insulin Resistance [HOMA-IR]); (4) metabolic syndrome risk factors (blood pressure, waist circumference, HDL cholesterol, triglycerides, and fasting blood glucose); (5) inflammatory markers (e.g. CRP, IL-6, TNF-alpha); (6) adipokines (leptin and adiponectin); and (7) nitric oxide metabolites. Brachial FMD at 6 months will be the primary outcome measure. We will assess the safety of enhanced vitamin D3 supplementation by measuring serum calcium at the 3- and 6-month-follow-ups. Total body fat will be ascertained by Dual-energy X-ray Absorptiometry to examine the confounding effects of adiposity on outcome measures. Innovative aspects of this proposal include (1) characterizing the temporal changes in vascular health and cardiometabolic risk outcomes in response to enhancement of vitamin D status in a population of children at high-risk for vascular dysfunction and cardiometabolic risks; and (2) delineating the vitamin D effects on inflammatory markers and adipokines relevant to CVD risk. Establishing the protective benefits of vitamin D would have major public health importance, since optimization of vitamin D status would be an inexpensive primary prevention strategy for improving cardiometabolic health during childhood and for reducing CVD risk during adulthood.          ', 'Project ID': 'HL112985', 'Project Title': 'Vitamin D and Vascular Function in Obese Children', 'id': 'doc_10'}\n",
      "{'Investigator Names': 'RAJAKUMAR, KUMARAVEL ', 'Project Abstract': '     DESCRIPTION (provided by applicant): Vitamin D deficiency is emerging as an independent risk factor for subclinical vascular dysfunction, metabolic syndrome, and later cardiovascular disease (CVD) in children. Obese children (BMI 95th percentile) and overweight children (BMI 85th-94th percentile) exhibit CVD risk factors and a relatively high prevalence of hypovitaminosis D, and their atherogenic risks track from childhood to adulthood. Therefore, vitamin D replenishment in vitamin D-deficient obese and overweight children has the potential to improve their cardiometabolic health and reduce their risk of CVD later in life. In this proposa, we will test the central hypothesis that enhancement of vitamin D status in such children will improve their vascular health and their CVD and metabolic syndrome risk profile. Our primary objective is to determine, in obese and overweight children aged 10 to 18 years with vitamin D deficiency (defined as serum 25-hydroxyvitamin D <20 ng/mL), the efficacy of enhanced vitamin D3 supplementation in improving vascular endothelial function, arterial stiffness, insulin sensitivity, and metabolic syndrome risk status; and to assess whether these effects are dose- dependent. As a secondary objective, we will examine the vitamin D supplementation-induced effect on adipokines and inflammatory markers relevant to CVD risk. In a double-masked, controlled trial, we will randomize 252 eligible children to receive either 600 IU (conventional supplementation), or 1000 IU or 2000 IU (enhanced supplementation) of vitamin D3 daily for 6 months. Study outcome measures, assessed at baseline, 3 and 6 months, will include (1) brachial artery flow-mediated dilation (FMD) as a measure of vascular endothelial function; (2) pulse wave velocity as a measure of arterial stiffness; (3) surrogate estimates of insulin sensitivity (fasting glucose/fasting insulin ratio or Homeostasis Model of Assessment - Insulin Resistance [HOMA-IR]); (4) metabolic syndrome risk factors (blood pressure, waist circumference, HDL cholesterol, triglycerides, and fasting blood glucose); (5) inflammatory markers (e.g. CRP, IL-6, TNF-alpha); (6) adipokines (leptin and adiponectin); and (7) nitric oxide metabolites. Brachial FMD at 6 months will be the primary outcome measure. We will assess the safety of enhanced vitamin D3 supplementation by measuring serum calcium at the 3- and 6-month-follow-ups. Total body fat will be ascertained by Dual-energy X-ray Absorptiometry to examine the confounding effects of adiposity on outcome measures. Innovative aspects of this proposal include (1) characterizing the temporal changes in vascular health and cardiometabolic risk outcomes in response to enhancement of vitamin D status in a population of children at high-risk for vascular dysfunction and cardiometabolic risks; and (2) delineating the vitamin D effects on inflammatory markers and adipokines relevant to CVD risk. Establishing the protective benefits of vitamin D would have major public health importance, since optimization of vitamin D status would be an inexpensive primary prevention strategy for improving cardiometabolic health during childhood and for reducing CVD risk during adulthood.          ', 'Project ID': 'HL112985', 'Project Title': 'Vitamin D and Vascular Function in Obese Children', 'id': 'doc_11'}\n",
      "{'Investigator Names': 'RAJAKUMAR, KUMARAVEL ', 'Project Abstract': '     DESCRIPTION (provided by applicant): Vitamin D deficiency is emerging as an independent risk factor for subclinical vascular dysfunction, metabolic syndrome, and later cardiovascular disease (CVD) in children. Obese children (BMI 95th percentile) and overweight children (BMI 85th-94th percentile) exhibit CVD risk factors and a relatively high prevalence of hypovitaminosis D, and their atherogenic risks track from childhood to adulthood. Therefore, vitamin D replenishment in vitamin D-deficient obese and overweight children has the potential to improve their cardiometabolic health and reduce their risk of CVD later in life. In this proposa, we will test the central hypothesis that enhancement of vitamin D status in such children will improve their vascular health and their CVD and metabolic syndrome risk profile. Our primary objective is to determine, in obese and overweight children aged 10 to 18 years with vitamin D deficiency (defined as serum 25-hydroxyvitamin D <20 ng/mL), the efficacy of enhanced vitamin D3 supplementation in improving vascular endothelial function, arterial stiffness, insulin sensitivity, and metabolic syndrome risk status; and to assess whether these effects are dose- dependent. As a secondary objective, we will examine the vitamin D supplementation-induced effect on adipokines and inflammatory markers relevant to CVD risk. In a double-masked, controlled trial, we will randomize 252 eligible children to receive either 600 IU (conventional supplementation), or 1000 IU or 2000 IU (enhanced supplementation) of vitamin D3 daily for 6 months. Study outcome measures, assessed at baseline, 3 and 6 months, will include (1) brachial artery flow-mediated dilation (FMD) as a measure of vascular endothelial function; (2) pulse wave velocity as a measure of arterial stiffness; (3) surrogate estimates of insulin sensitivity (fasting glucose/fasting insulin ratio or Homeostasis Model of Assessment - Insulin Resistance [HOMA-IR]); (4) metabolic syndrome risk factors (blood pressure, waist circumference, HDL cholesterol, triglycerides, and fasting blood glucose); (5) inflammatory markers (e.g. CRP, IL-6, TNF-alpha); (6) adipokines (leptin and adiponectin); and (7) nitric oxide metabolites. Brachial FMD at 6 months will be the primary outcome measure. We will assess the safety of enhanced vitamin D3 supplementation by measuring serum calcium at the 3- and 6-month-follow-ups. Total body fat will be ascertained by Dual-energy X-ray Absorptiometry to examine the confounding effects of adiposity on outcome measures. Innovative aspects of this proposal include (1) characterizing the temporal changes in vascular health and cardiometabolic risk outcomes in response to enhancement of vitamin D status in a population of children at high-risk for vascular dysfunction and cardiometabolic risks; and (2) delineating the vitamin D effects on inflammatory markers and adipokines relevant to CVD risk. Establishing the protective benefits of vitamin D would have major public health importance, since optimization of vitamin D status would be an inexpensive primary prevention strategy for improving cardiometabolic health during childhood and for reducing CVD risk during adulthood.          ', 'Project ID': 'HL112985', 'Project Title': 'Vitamin D and Vascular Function in Obese Children', 'id': 'doc_12'}\n"
     ]
    }
   ],
   "source": [
    "# Display the response\n",
    "citations = []\n",
    "cited_documents = []\n",
    "\n",
    "for event in response:\n",
    "    if event.event_type == \"text-generation\":\n",
    "        print(event.text, end=\"\")\n",
    "    elif event.event_type == \"citation-generation\":\n",
    "        citations.extend(event.citations)\n",
    "    elif event.event_type == \"stream-end\":\n",
    "        cited_documents = event.response.documents\n",
    "\n",
    "# Display the citations and source documents\n",
    "if citations:\n",
    "  print(\"\\n\\nCITATIONS:\")\n",
    "  for citation in citations:\n",
    "    print(citation)\n",
    "\n",
    "  print(\"\\nDOCUMENTS:\")\n",
    "  for document in cited_documents:\n",
    "    print(document)"
   ]
  },
  {
   "cell_type": "code",
   "execution_count": 16,
   "id": "eb7b2837-939e-4cdc-b468-dac4a0a53f42",
   "metadata": {},
   "outputs": [
    {
     "data": {
      "text/html": [
       "<div>\n",
       "<style scoped>\n",
       "    .dataframe tbody tr th:only-of-type {\n",
       "        vertical-align: middle;\n",
       "    }\n",
       "\n",
       "    .dataframe tbody tr th {\n",
       "        vertical-align: top;\n",
       "    }\n",
       "\n",
       "    .dataframe thead th {\n",
       "        text-align: right;\n",
       "    }\n",
       "</style>\n",
       "<table border=\"1\" class=\"dataframe\">\n",
       "  <thead>\n",
       "    <tr style=\"text-align: right;\">\n",
       "      <th></th>\n",
       "      <th>Project Title</th>\n",
       "      <th>Project ID</th>\n",
       "      <th>Investigator Names</th>\n",
       "      <th>Project Abstract</th>\n",
       "    </tr>\n",
       "  </thead>\n",
       "  <tbody>\n",
       "    <tr>\n",
       "      <th>263</th>\n",
       "      <td>Trial of Vitamin D in Maternal HIV Progression and Child Health</td>\n",
       "      <td>HD083113-02</td>\n",
       "      <td>Fawzi, Wafaie W; Sudfeld, Christopher</td>\n",
       "      <td>DESCRIPTION (provided by applicant): The overall project goal is to investigate a vitamin D3 (cholecalciferol) as a simple and low cost intervention to prolong and improve quality of life for HIV-infected pregnant women and their children in resource limited settings. In order to meet these...</td>\n",
       "    </tr>\n",
       "  </tbody>\n",
       "</table>\n",
       "</div>"
      ],
      "text/plain": [
       "                                                       Project Title  \\\n",
       "263  Trial of Vitamin D in Maternal HIV Progression and Child Health   \n",
       "\n",
       "      Project ID                      Investigator Names  \\\n",
       "263  HD083113-02  Fawzi, Wafaie W; Sudfeld, Christopher    \n",
       "\n",
       "                                                                                                                                                                                                                                                                                                Project Abstract  \n",
       "263       DESCRIPTION (provided by applicant): The overall project goal is to investigate a vitamin D3 (cholecalciferol) as a simple and low cost intervention to prolong and improve quality of life for HIV-infected pregnant women and their children in resource limited settings. In order to meet these...  "
      ]
     },
     "execution_count": 16,
     "metadata": {},
     "output_type": "execute_result"
    }
   ],
   "source": [
    "studies_df[studies_df['Project ID']=='HD083113-02']"
   ]
  },
  {
   "cell_type": "markdown",
   "id": "d9eec4e3-7f9f-4c64-ab3a-4a4b9164358e",
   "metadata": {},
   "source": [
    "**Problem!** There is a limit on how much you can send as context! The amount varies with the LLM model, but better to first find the most relevant documents and only send those as context. \n",
    "Embedders embed doc chunks/passages as vectors and allow you to do various similarity searches to find relevant documents out of the (hopefully large) dataset you embed. \n"
   ]
  },
  {
   "cell_type": "markdown",
   "id": "288d98e4-19b1-40bc-b25e-9fe5b0afb0b9",
   "metadata": {},
   "source": [
    "### Embed documents\n",
    "Modified from Cohere's intro that uses unstructured library https://cohere.com/blog/rag-chatbot#embed-the-document-chunks\n",
    "\n",
    "Other tools you could use include weaviate, pgvector for embedding, huggingface models for reranking\n",
    "\n"
   ]
  },
  {
   "cell_type": "code",
   "execution_count": 17,
   "id": "f1f4a930-7775-44f0-8809-7f3463f326cd",
   "metadata": {},
   "outputs": [],
   "source": [
    "import hnswlib\n",
    "from typing import List, Dict\n"
   ]
  },
  {
   "cell_type": "code",
   "execution_count": 18,
   "id": "02d51206-4922-48b1-a48c-563b3e0124da",
   "metadata": {
    "tags": []
   },
   "outputs": [],
   "source": [
    "class Vectorstore:\n",
    "    \"\"\"\n",
    "    A class representing a collection of documents indexed into a vectorstore.\n",
    "\n",
    "    Parameters:\n",
    "    raw_documents (list): A list of dictionaries representing the sources of the raw documents. Each dictionary should have 'title' and 'url' keys.\n",
    "\n",
    "    Attributes:\n",
    "    raw_documents (list): A list of dictionaries representing the raw documents.\n",
    "    docs (list): A list of dictionaries representing the chunked documents, with 'title', 'text', and 'url' keys.\n",
    "    docs_embs (list): A list of the associated embeddings for the document chunks.\n",
    "    docs_len (int): The number of document chunks in the collection.\n",
    "    idx (hnswlib.Index): The index used for document retrieval.\n",
    "\n",
    "    Methods:\n",
    "    load_and_chunk(): Loads the data from the sources and partitions the HTML content into chunks.\n",
    "    embed(): Embeds the document chunks using the Cohere API.\n",
    "    index(): Indexes the document chunks for efficient retrieval.\n",
    "    retrieve(): Retrieves document chunks based on the given query.\n",
    "    \"\"\"\n",
    "\n",
    "    def __init__(self, document_list: List[Dict[str, str]]):\n",
    "        self.document_list = document_list\n",
    "        self.docs = []\n",
    "        self.docs_embs = []\n",
    "        self.retrieve_top_k = 10\n",
    "        self.rerank_top_k = 3\n",
    "        self.load_text()\n",
    "        self.embed()\n",
    "        self.index()\n",
    "\n",
    "    def load_text(self) -> None:\n",
    "        \"\"\"\n",
    "        Loads the text from the sources and chunks the HTML content.\n",
    "        \"\"\"\n",
    "        print(\"Loading documents...\")\n",
    "\n",
    "        for doc_data in self.document_list:\n",
    "            \n",
    "            for doc in doc_data:\n",
    "                self.docs.append(\n",
    "                    {\n",
    "                        \"title\": doc[\"Project Title\"],\n",
    "                        \"text\": doc['Project Abstract'],\n",
    "                        \"project_id\": doc['Project ID'],\n",
    "                        \"authors\": doc['Investigator Names'], \n",
    "                    }\n",
    "                )\n",
    "    \n",
    "    def embed(self) -> None:\n",
    "        \"\"\"\n",
    "        Embeds the document text using the Cohere API.\n",
    "        \"\"\"\n",
    "        print(\"Embedding document chunks...\")\n",
    "\n",
    "        batch_size = 50\n",
    "        self.docs_len = len(self.docs)\n",
    "        for i in range(0, self.docs_len, batch_size):\n",
    "            batch = self.docs[i : min(i + batch_size, self.docs_len)]\n",
    "            texts = [item[\"text\"] for item in batch]\n",
    "            docs_embs_batch = co.embed(\n",
    "                texts=texts, model=\"embed-english-v3.0\", input_type=\"search_document\"\n",
    "            ).embeddings\n",
    "            self.docs_embs.extend(docs_embs_batch)\n",
    "\n",
    "    def index(self) -> None:\n",
    "        \"\"\"\n",
    "        Indexes the document chunks for efficient retrieval.\n",
    "        \"\"\"\n",
    "        print(\"Indexing document chunks...\")\n",
    "\n",
    "        self.idx = hnswlib.Index(space=\"ip\", dim=1024)\n",
    "        self.idx.init_index(max_elements=self.docs_len, ef_construction=512, M=64)\n",
    "        self.idx.add_items(self.docs_embs, list(range(len(self.docs_embs))))\n",
    "\n",
    "        print(f\"Indexing complete with {self.idx.get_current_count()} document chunks.\")\n",
    "\n",
    "    def retrieve(self, query: str) -> List[Dict[str, str]]:\n",
    "        \"\"\"\n",
    "        Retrieves document chunks based on the given query.\n",
    "\n",
    "        Parameters:\n",
    "        query (str): The query to retrieve document chunks for.\n",
    "\n",
    "        Returns:\n",
    "        List[Dict[str, str]]: A list of dictionaries representing the retrieved document chunks, with 'title', 'text', and 'url' keys.\n",
    "        \"\"\"\n",
    "\n",
    "        # Dense retrieval\n",
    "        query_emb = co.embed(\n",
    "            texts=[query], model=\"embed-english-v3.0\", input_type=\"search_query\"\n",
    "        ).embeddings\n",
    "\n",
    "        doc_ids = self.idx.knn_query(query_emb, k=self.retrieve_top_k)[0][0]\n",
    "\n",
    "        # Reranking\n",
    "        rank_fields = [\"title\", \"text\"] # We'll use the title and text fields for reranking\n",
    "\n",
    "        docs_to_rerank = [self.docs[doc_id] for doc_id in doc_ids]\n",
    "\n",
    "        rerank_results = co.rerank(\n",
    "            query=query,\n",
    "            documents=docs_to_rerank,\n",
    "            top_n=self.rerank_top_k,\n",
    "            model=\"rerank-english-v3.0\",\n",
    "            rank_fields=rank_fields\n",
    "        )\n",
    "\n",
    "        doc_ids_reranked = [doc_ids[result.index] for result in rerank_results.results]\n",
    "\n",
    "        docs_retrieved = []\n",
    "        for doc_id in doc_ids_reranked:\n",
    "            docs_retrieved.append(\n",
    "                {\n",
    "                    \"title\": self.docs[doc_id][\"title\"],\n",
    "                    \"text\": self.docs[doc_id][\"text\"],\n",
    "                    \"project_id\": self.docs[doc_id][\"project_id\"],\n",
    "                }\n",
    "            )\n",
    "\n",
    "        return docs_retrieved"
   ]
  },
  {
   "cell_type": "code",
   "execution_count": 19,
   "id": "bf3e08c9-d69c-48d6-a666-fdb43ae45fcd",
   "metadata": {},
   "outputs": [
    {
     "name": "stdout",
     "output_type": "stream",
     "text": [
      "Loading documents...\n",
      "Embedding document chunks...\n",
      "Indexing document chunks...\n",
      "Indexing complete with 922 document chunks.\n"
     ]
    }
   ],
   "source": [
    "# embed ALL the documents\n",
    "vectorstore = Vectorstore([documents])"
   ]
  },
  {
   "cell_type": "code",
   "execution_count": 20,
   "id": "7d03007b-c047-449f-8642-21a03e1f8181",
   "metadata": {},
   "outputs": [
    {
     "data": {
      "text/plain": [
       "[{'title': 'Vitamin D and Follicular Lymphoma',\n",
       "  'text': 'Program Director/Principal Investigator (Last, First, Middle): Friedberg, Jonathan, W\\nABSTRACT\\nIn addition to the primary effects on calcium homeostasis, Vitamin D has important effects on both\\ninnate and adaptive immunity in humans. However, the degree to which these pleotropic effects of\\nVitamin D influences specific immune responses to infections and cancer in humans is not known.\\nIndolent B-cell lymphoma represents a unique model system to define the effect of Vitamin D on the\\nimmune response to cancer. Gene expression profiling studies demonstrate the importance of\\nimmune-based signatures in the lymph node microenvironment on prognosis in follicular lymphoma. A\\nrecently published study identified that immune-infiltration measured by PD-L2 expression in the\\nmicroenvironment of follicular lymphoma is strongly predictive of outcome, where low immune\\ninfiltration was associated with increased risk of early relapse after initial therapy and ultimately\\nincreased risk of death. As Vitamin D can upregulate tissue-specific PD-L1 and PD-L2 surface\\nglycoprotein expression in humans as a direct transcriptional inducer through the Vitamin D receptor,\\nVitamin D may directly influence the immune response to malignancy. Our current R01 (CA214890)\\nfunds a phase 3 clinical trial termed ILyAD (Indolent Lymphoma And Vitamin D), which randomizes\\npatients being treated with rituximab to Vitamin D supplementation with oral cholecalciferol 2000IU\\ndaily, or placebo daily. At baseline and in follow-up, all patients have blood obtained for Vitamin D\\nlevels, shipped to URMC labs on day of blood draw for central batched analysis using the gold standard\\nliquid chromatography-mass spectrometry (LCMS) method. Therefore, we have the unprecedented\\nopportunity to discover the direct relationship of Vitamin D treatment to immunomodulation in the setting\\nof indolent lymphoma. In this supplement, we propose to assess the tumor biopsies of patients in\\nILyAD to assess immune infiltration, and correlate to baseline Vitamin D level. To evaluate specific cell\\npopulations of interest, we will further characterize the immune infiltration patterns observed in tumors\\nfrom patients with low and high Vitamin D levels using spatial genomics. Leveraging the power of our\\nrandomized, prospective trial, we will determine if Vitamin D supplementation can overcome the\\nnegative prognosis of low immune infiltration on the trial. These assays therefore incorporate a\\npotential biomarker of response to Vitamin D, and providing important mechanistic insights around\\nVitamin D with implications in other benign and malignant immune-reactive conditions.\\nOMB No. 0925-0001/0002 (Rev. 03/2020 Approved Through 02/28/2023) Page 1 Continuation Format Page',\n",
       "  'project_id': 'CA214890-04S1'},\n",
       " {'title': 'Novel randomized controlled trials of vitamin D supplementation in patients with colorectal cancer: Impact on survival and biology',\n",
       "  'text': 'PROJECT SUMMARY / ABSTRACT Abundant preclinical and epidemiologic data suggest that vitamin D possesses anti-neoplastic activity, and that individuals with higher plasma 25-hydroxyvitamin D [25(OH)D] levels have lower risk of colorectal cancer (CRC) and improved survival from CRC. Despite compelling evidence implicating vitamin D in CRC, critical questions remain about whether these findings reflect a true causal relationship, and what the biological mech- anisms of vitamin D activity are. Our central hypothesis is that vitamin D supplementation to achieve sufficient levels of 25(OH)D leads to improved survival in CRC patients and influences several neoplastic pathways that can be exploited as biomarkers of efficacy and targets for novel treatment strategies. We will test this hypothe- sis within two novel randomized clinical trials of vitamin D supplementation: a) a phase II double-blind random- ized trial of high- versus low-dose vitamin D3 in combination with chemotherapy in patients with metastatic CRC, and b) a randomized trial of preoperative high-dose vitamin D3 versus placebo in patients with resectable colon cancer for examination of vitamin D biology in fresh human tumor tissue. We will also lever- age a rich prospective cohort of metastatic CRC patients enrolled in a completed NCI-sponsored phase III trial of chemotherapy (CALGB/SWOG 80405) to further define and validate biomarkers of vitamin D action. In Aim 1, we will determine the impact of supplemental vitamin D on survival of CRC patients, test distinct hypotheses about the vitamin D dose-response relationship, and explore biomarkers of vitamin D status, response, and efficacy. We will investigate whether circulating levels of vitamin D binding protein and tumoral expression of vitamin D receptor, 1α-hydroxylase, and 24-hydroxylase are associated with improved survival within our ran- domized trials, and whether these markers modify the relationship between vitamin D and patient outcome. In Aim 2, we will conduct a precision medicine analysis of vitamin D to elucidate the mechanistic basis for its anti- tumor activity in CRC. We will explore the impact of vitamin D supplementation on tumoral markers of inflam- mation, lymphocytic infiltrates, and inflammatory gene signatures in surgical colectomy specimens from pa- tients treated with high-dose preoperative vitamin D3 versus placebo. We will also perform next generation se- quencing and Nanostring analysis of tumors from CRC patients with high- versus low vitamin D status to identi- fy unique genetic and transcriptional signatures associated with vitamin D-mediated carcinogenesis. In sum- mary, this translational proposal leverages innovative randomized trials of vitamin D to take the next critical steps in understanding vitamin D activity and biology in CRC. Our findings will confirm causality, provide new insights into biomarkers of vitamin D activity, and lead to potential inclusion of vitamin D into standard therapy – including immunotherapy – with the ultimate goal of improving the survival of patients with CRC.',\n",
       "  'project_id': 'CA205406-01A1'},\n",
       " {'title': 'Novel randomized controlled trials of vitamin D supplementation in patients with colorectal cancer: Impact on survival and biology',\n",
       "  'text': 'PROJECT SUMMARY / ABSTRACT Abundant preclinical and epidemiologic data suggest that vitamin D possesses anti-neoplastic activity, and that individuals with higher plasma 25-hydroxyvitamin D [25(OH)D] levels have lower risk of colorectal cancer (CRC) and improved survival from CRC. Despite compelling evidence implicating vitamin D in CRC, critical questions remain about whether these findings reflect a true causal relationship, and what the biological mech- anisms of vitamin D activity are. Our central hypothesis is that vitamin D supplementation to achieve sufficient levels of 25(OH)D leads to improved survival in CRC patients and influences several neoplastic pathways that can be exploited as biomarkers of efficacy and targets for novel treatment strategies. We will test this hypothe- sis within two novel randomized clinical trials of vitamin D supplementation: a) a phase II double-blind random- ized trial of high- versus low-dose vitamin D3 in combination with chemotherapy in patients with metastatic CRC, and b) a randomized trial of preoperative high-dose vitamin D3 versus placebo in patients with resectable colon cancer for examination of vitamin D biology in fresh human tumor tissue. We will also lever- age a rich prospective cohort of metastatic CRC patients enrolled in a completed NCI-sponsored phase III trial of chemotherapy (CALGB/SWOG 80405) to further define and validate biomarkers of vitamin D action. In Aim 1, we will determine the impact of supplemental vitamin D on survival of CRC patients, test distinct hypotheses about the vitamin D dose-response relationship, and explore biomarkers of vitamin D status, response, and efficacy. We will investigate whether circulating levels of vitamin D binding protein and tumoral expression of vitamin D receptor, 1α-hydroxylase, and 24-hydroxylase are associated with improved survival within our ran- domized trials, and whether these markers modify the relationship between vitamin D and patient outcome. In Aim 2, we will conduct a precision medicine analysis of vitamin D to elucidate the mechanistic basis for its anti- tumor activity in CRC. We will explore the impact of vitamin D supplementation on tumoral markers of inflam- mation, lymphocytic infiltrates, and inflammatory gene signatures in surgical colectomy specimens from pa- tients treated with high-dose preoperative vitamin D3 versus placebo. We will also perform next generation se- quencing and Nanostring analysis of tumors from CRC patients with high- versus low vitamin D status to identi- fy unique genetic and transcriptional signatures associated with vitamin D-mediated carcinogenesis. In sum- mary, this translational proposal leverages innovative randomized trials of vitamin D to take the next critical steps in understanding vitamin D activity and biology in CRC. Our findings will confirm causality, provide new insights into biomarkers of vitamin D activity, and lead to potential inclusion of vitamin D into standard therapy – including immunotherapy – with the ultimate goal of improving the survival of patients with CRC.',\n",
       "  'project_id': 'CA205406-02'}]"
      ]
     },
     "execution_count": 20,
     "metadata": {},
     "output_type": "execute_result"
    }
   ],
   "source": [
    "# Example\n",
    "vectorstore.retrieve(\"vitamin d and cancer\")"
   ]
  },
  {
   "cell_type": "markdown",
   "id": "dfd2cf47-4dba-4103-97bb-b771da06f3e0",
   "metadata": {},
   "source": [
    "### Pull it together"
   ]
  },
  {
   "cell_type": "code",
   "execution_count": 21,
   "id": "907ec6e5-53db-449a-bcaa-096e91676eb3",
   "metadata": {
    "tags": []
   },
   "outputs": [],
   "source": [
    "message = \"What is the research on vitamin D and cancer?\"\n",
    "embedded_documents= vectorstore.retrieve(message)\n",
    "\n",
    "# Generate the response\n",
    "response = co.chat_stream(message=message,\n",
    "                          model=\"command-r-plus\",\n",
    "                          documents= embedded_documents\n",
    "                          \n",
    "                         )"
   ]
  },
  {
   "cell_type": "code",
   "execution_count": 22,
   "id": "c6046b8e-0013-44bd-b01a-2e0f36bb7bb3",
   "metadata": {
    "tags": []
   },
   "outputs": [
    {
     "name": "stdout",
     "output_type": "stream",
     "text": [
      "There is research to suggest that vitamin D has anti-neoplastic properties, and that individuals with higher plasma 25-hydroxyvitamin D [25(OH)D] levels have a lower risk of colorectal cancer (CRC) and improved survival rates. However, it is unclear whether these findings reflect a true causal relationship. Vitamin D also has important effects on both innate and adaptive immunity in humans, and it may directly influence the immune response to malignancy.\n",
      "\n",
      "CITATIONS:\n",
      "start=48 end=74 text='anti-neoplastic properties' document_ids=['doc_1', 'doc_2']\n",
      "start=102 end=152 text='higher plasma 25-hydroxyvitamin D [25(OH)D] levels' document_ids=['doc_1', 'doc_2']\n",
      "start=160 end=197 text='lower risk of colorectal cancer (CRC)' document_ids=['doc_1', 'doc_2']\n",
      "start=202 end=226 text='improved survival rates.' document_ids=['doc_1', 'doc_2']\n",
      "start=242 end=308 text='unclear whether these findings reflect a true causal relationship.' document_ids=['doc_1', 'doc_2']\n",
      "start=328 end=392 text='important effects on both innate and adaptive immunity in humans' document_ids=['doc_0']\n",
      "start=405 end=458 text='directly influence the immune response to malignancy.' document_ids=['doc_0']\n",
      "\n",
      "DOCUMENTS:\n",
      "{'id': 'doc_1', 'project_id': 'CA205406-01A1', 'text': 'PROJECT SUMMARY / ABSTRACT Abundant preclinical and epidemiologic data suggest that vitamin D possesses anti-neoplastic activity, and that individuals with higher plasma 25-hydroxyvitamin D [25(OH)D] levels have lower risk of colorectal cancer (CRC) and improved survival from CRC. Despite compelling evidence implicating vitamin D in CRC, critical questions remain about whether these findings reflect a true causal relationship, and what the biological mech- anisms of vitamin D activity are. Our central hypothesis is that vitamin D supplementation to achieve sufficient levels of 25(OH)D leads to improved survival in CRC patients and influences several neoplastic pathways that can be exploited as biomarkers of efficacy and targets for novel treatment strategies. We will test this hypothe- sis within two novel randomized clinical trials of vitamin D supplementation: a) a phase II double-blind random- ized trial of high- versus low-dose vitamin D3 in combination with chemotherapy in patients with metastatic CRC, and b) a randomized trial of preoperative high-dose vitamin D3 versus placebo in patients with resectable colon cancer for examination of vitamin D biology in fresh human tumor tissue. We will also lever- age a rich prospective cohort of metastatic CRC patients enrolled in a completed NCI-sponsored phase III trial of chemotherapy (CALGB/SWOG 80405) to further define and validate biomarkers of vitamin D action. In Aim 1, we will determine the impact of supplemental vitamin D on survival of CRC patients, test distinct hypotheses about the vitamin D dose-response relationship, and explore biomarkers of vitamin D status, response, and efficacy. We will investigate whether circulating levels of vitamin D binding protein and tumoral expression of vitamin D receptor, 1α-hydroxylase, and 24-hydroxylase are associated with improved survival within our ran- domized trials, and whether these markers modify the relationship between vitamin D and patient outcome. In Aim 2, we will conduct a precision medicine analysis of vitamin D to elucidate the mechanistic basis for its anti- tumor activity in CRC. We will explore the impact of vitamin D supplementation on tumoral markers of inflam- mation, lymphocytic infiltrates, and inflammatory gene signatures in surgical colectomy specimens from pa- tients treated with high-dose preoperative vitamin D3 versus placebo. We will also perform next generation se- quencing and Nanostring analysis of tumors from CRC patients with high- versus low vitamin D status to identi- fy unique genetic and transcriptional signatures associated with vitamin D-mediated carcinogenesis. In sum- mary, this translational proposal leverages innovative randomized trials of vitamin D to take the next critical steps in understanding vitamin D activity and biology in CRC. Our findings will confirm causality, provide new insights into biomarkers of vitamin D activity, and lead to potential inclusion of vitamin D into standard therapy – including immunotherapy – with the ultimate goal of improving the survival of patients with CRC.', 'title': 'Novel randomized controlled trials of vitamin D supplementation in patients with colorectal cancer: Impact on survival and biology'}\n",
      "{'id': 'doc_2', 'project_id': 'CA205406-02', 'text': 'PROJECT SUMMARY / ABSTRACT Abundant preclinical and epidemiologic data suggest that vitamin D possesses anti-neoplastic activity, and that individuals with higher plasma 25-hydroxyvitamin D [25(OH)D] levels have lower risk of colorectal cancer (CRC) and improved survival from CRC. Despite compelling evidence implicating vitamin D in CRC, critical questions remain about whether these findings reflect a true causal relationship, and what the biological mech- anisms of vitamin D activity are. Our central hypothesis is that vitamin D supplementation to achieve sufficient levels of 25(OH)D leads to improved survival in CRC patients and influences several neoplastic pathways that can be exploited as biomarkers of efficacy and targets for novel treatment strategies. We will test this hypothe- sis within two novel randomized clinical trials of vitamin D supplementation: a) a phase II double-blind random- ized trial of high- versus low-dose vitamin D3 in combination with chemotherapy in patients with metastatic CRC, and b) a randomized trial of preoperative high-dose vitamin D3 versus placebo in patients with resectable colon cancer for examination of vitamin D biology in fresh human tumor tissue. We will also lever- age a rich prospective cohort of metastatic CRC patients enrolled in a completed NCI-sponsored phase III trial of chemotherapy (CALGB/SWOG 80405) to further define and validate biomarkers of vitamin D action. In Aim 1, we will determine the impact of supplemental vitamin D on survival of CRC patients, test distinct hypotheses about the vitamin D dose-response relationship, and explore biomarkers of vitamin D status, response, and efficacy. We will investigate whether circulating levels of vitamin D binding protein and tumoral expression of vitamin D receptor, 1α-hydroxylase, and 24-hydroxylase are associated with improved survival within our ran- domized trials, and whether these markers modify the relationship between vitamin D and patient outcome. In Aim 2, we will conduct a precision medicine analysis of vitamin D to elucidate the mechanistic basis for its anti- tumor activity in CRC. We will explore the impact of vitamin D supplementation on tumoral markers of inflam- mation, lymphocytic infiltrates, and inflammatory gene signatures in surgical colectomy specimens from pa- tients treated with high-dose preoperative vitamin D3 versus placebo. We will also perform next generation se- quencing and Nanostring analysis of tumors from CRC patients with high- versus low vitamin D status to identi- fy unique genetic and transcriptional signatures associated with vitamin D-mediated carcinogenesis. In sum- mary, this translational proposal leverages innovative randomized trials of vitamin D to take the next critical steps in understanding vitamin D activity and biology in CRC. Our findings will confirm causality, provide new insights into biomarkers of vitamin D activity, and lead to potential inclusion of vitamin D into standard therapy – including immunotherapy – with the ultimate goal of improving the survival of patients with CRC.', 'title': 'Novel randomized controlled trials of vitamin D supplementation in patients with colorectal cancer: Impact on survival and biology'}\n",
      "{'id': 'doc_0', 'project_id': 'CA214890-04S1', 'text': 'Program Director/Principal Investigator (Last, First, Middle): Friedberg, Jonathan, W\\nABSTRACT\\nIn addition to the primary effects on calcium homeostasis, Vitamin D has important effects on both\\ninnate and adaptive immunity in humans. However, the degree to which these pleotropic effects of\\nVitamin D influences specific immune responses to infections and cancer in humans is not known.\\nIndolent B-cell lymphoma represents a unique model system to define the effect of Vitamin D on the\\nimmune response to cancer. Gene expression profiling studies demonstrate the importance of\\nimmune-based signatures in the lymph node microenvironment on prognosis in follicular lymphoma. A\\nrecently published study identified that immune-infiltration measured by PD-L2 expression in the\\nmicroenvironment of follicular lymphoma is strongly predictive of outcome, where low immune\\ninfiltration was associated with increased risk of early relapse after initial therapy and ultimately\\nincreased risk of death. As Vitamin D can upregulate tissue-specific PD-L1 and PD-L2 surface\\nglycoprotein expression in humans as a direct transcriptional inducer through the Vitamin D receptor,\\nVitamin D may directly influence the immune response to malignancy. Our current R01 (CA214890)\\nfunds a phase 3 clinical trial termed ILyAD (Indolent Lymphoma And Vitamin D), which randomizes\\npatients being treated with rituximab to Vitamin D supplementation with oral cholecalciferol 2000IU\\ndaily, or placebo daily. At baseline and in follow-up, all patients have blood obtained for Vitamin D\\nlevels, shipped to URMC labs on day of blood draw for central batched analysis using the gold standard\\nliquid chromatography-mass spectrometry (LCMS) method. Therefore, we have the unprecedented\\nopportunity to discover the direct relationship of Vitamin D treatment to immunomodulation in the setting\\nof indolent lymphoma. In this supplement, we propose to assess the tumor biopsies of patients in\\nILyAD to assess immune infiltration, and correlate to baseline Vitamin D level. To evaluate specific cell\\npopulations of interest, we will further characterize the immune infiltration patterns observed in tumors\\nfrom patients with low and high Vitamin D levels using spatial genomics. Leveraging the power of our\\nrandomized, prospective trial, we will determine if Vitamin D supplementation can overcome the\\nnegative prognosis of low immune infiltration on the trial. These assays therefore incorporate a\\npotential biomarker of response to Vitamin D, and providing important mechanistic insights around\\nVitamin D with implications in other benign and malignant immune-reactive conditions.\\nOMB No. 0925-0001/0002 (Rev. 03/2020 Approved Through 02/28/2023) Page 1 Continuation Format Page', 'title': 'Vitamin D and Follicular Lymphoma'}\n"
     ]
    }
   ],
   "source": [
    "# Display the response\n",
    "citations = []\n",
    "cited_documents = []\n",
    "\n",
    "for event in response:\n",
    "    if event.event_type == \"text-generation\":\n",
    "        print(event.text, end=\"\")\n",
    "    elif event.event_type == \"citation-generation\":\n",
    "        citations.extend(event.citations)\n",
    "    elif event.event_type == \"stream-end\":\n",
    "        cited_documents = event.response.documents\n",
    "\n",
    "# Display the citations and source documents\n",
    "if citations:\n",
    "  print(\"\\n\\nCITATIONS:\")\n",
    "  for citation in citations:\n",
    "    print(citation)\n",
    "\n",
    "  print(\"\\nDOCUMENTS:\")\n",
    "  for document in cited_documents:\n",
    "    print(document)"
   ]
  },
  {
   "cell_type": "markdown",
   "id": "be9e5635-e511-418c-ac61-2514634beb2b",
   "metadata": {},
   "source": [
    "## Do more with full tutorial!\n",
    "I encourage you to work through Cohere's full tutorial which also uses reranking. https://cohere.com/blog/rag-chatbot\n",
    "\n",
    "Reranking takes the document chunks retrieved and reranks their relevance them based on context and domain. Whereas retrieval may focus on context searches specific to the words in the query, a reranker tries to focus on the general subject of the query and will rank retrieval results by relevance to that subject.\n"
   ]
  }
 ],
 "metadata": {
  "kernelspec": {
   "display_name": "cohere_demo",
   "language": "python",
   "name": "cohere_demo"
  },
  "language_info": {
   "codemirror_mode": {
    "name": "ipython",
    "version": 3
   },
   "file_extension": ".py",
   "mimetype": "text/x-python",
   "name": "python",
   "nbconvert_exporter": "python",
   "pygments_lexer": "ipython3",
   "version": "3.10.0"
  }
 },
 "nbformat": 4,
 "nbformat_minor": 5
}

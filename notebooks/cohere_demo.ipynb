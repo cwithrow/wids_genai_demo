{
 "cells": [
  {
   "cell_type": "markdown",
   "id": "53ffa143-66c3-4d95-a8fe-abf96fe6e530",
   "metadata": {},
   "source": [
    "This notebook is adapted from Cohere's notebook on using a [RAG enabled Chatbot](https://github.com/cohere-ai/notebooks/blob/main/notebooks/llmu/RAG_with_Chat_Embed_and_Rerank.ipynb?ref=cohere-ai.ghost.io) for the WiDS GenAI workshop.\n",
    "\n",
    "We will use Cohere's streaming chat bot, then add documents and received citations for which are used to answer the query. "
   ]
  },
  {
   "cell_type": "code",
   "execution_count": 1,
   "id": "dc06cebc-cb67-47ca-8add-220181fd17a7",
   "metadata": {},
   "outputs": [],
   "source": [
    "import cohere\n",
    "import config\n",
    "import os\n",
    "os.chdir(\"..\")\n",
    "\n",
    "co = cohere.Client(config.COHERE_KEY) \n"
   ]
  },
  {
   "cell_type": "markdown",
   "id": "e7a03738-fdf9-487e-b324-869e4dca569e",
   "metadata": {},
   "source": [
    "## Quick Example"
   ]
  },
  {
   "cell_type": "code",
   "execution_count": 3,
   "id": "fb0ac82c-bfd4-4fe6-9cb4-6b45fda46236",
   "metadata": {},
   "outputs": [],
   "source": [
    "documents = [\n",
    "    {\n",
    "        \"title\": \"Tall penguins\",\n",
    "        \"text\": \"Emperor penguins are the tallest.\"},\n",
    "    {\n",
    "        \"title\": \"Penguin habitats\",\n",
    "        \"text\": \"Emperor penguins only live in Antarctica.\"},\n",
    "    {\n",
    "        \"title\": \"What are animals?\",\n",
    "        \"text\": \"Animals are different from plants.\"}\n",
    "]"
   ]
  },
  {
   "cell_type": "code",
   "execution_count": 4,
   "id": "1cb1208b-df0a-4996-843b-59181e94fdce",
   "metadata": {},
   "outputs": [
    {
     "name": "stdout",
     "output_type": "stream",
     "text": [
      "The tallest living penguins are Emperor penguins. They are native to Antarctica.\n",
      "\n",
      "CITATIONS:\n",
      "start=32 end=49 text='Emperor penguins.' document_ids=['doc_0']\n",
      "start=59 end=80 text='native to Antarctica.' document_ids=['doc_1']\n",
      "\n",
      "DOCUMENTS:\n",
      "{'id': 'doc_0', 'text': 'Emperor penguins are the tallest.', 'title': 'Tall penguins'}\n",
      "{'id': 'doc_1', 'text': 'Emperor penguins only live in Antarctica.', 'title': 'Penguin habitats'}\n"
     ]
    }
   ],
   "source": [
    "# Get the user message\n",
    "message = \"What are the tallest living penguins?\"\n",
    "\n",
    "\n",
    "# Generate the response\n",
    "response = co.chat_stream(message=message,\n",
    "                          model=\"command-r-plus\",\n",
    "                          documents=documents)\n",
    "\n",
    "# Display the response\n",
    "citations = []\n",
    "cited_documents = []\n",
    "\n",
    "for event in response:\n",
    "    if event.event_type == \"text-generation\":\n",
    "        print(event.text, end=\"\")\n",
    "    elif event.event_type == \"citation-generation\":\n",
    "        citations.extend(event.citations)\n",
    "    elif event.event_type == \"stream-end\":\n",
    "        cited_documents = event.response.documents\n",
    "\n",
    "# Display the citations and source documents\n",
    "if citations:\n",
    "  print(\"\\n\\nCITATIONS:\")\n",
    "  for citation in citations:\n",
    "    print(citation)\n",
    "\n",
    "  print(\"\\nDOCUMENTS:\")\n",
    "  for document in cited_documents:\n",
    "    print(document)"
   ]
  },
  {
   "cell_type": "markdown",
   "id": "0db0f877-927c-4804-8eeb-7ac1ad241086",
   "metadata": {},
   "source": [
    "## Vitamin studies example\n",
    "Document chunking strategy can be a project in its own, with differing strategies. To keep this demo simple we will use text stored in a csv, from the National Health Institute's public database on vitamin and supplement studies. Other use cases for text in csv could be question and answer data from past customer interactions, a personal health journal or scraped forum data.\n",
    "\n",
    "**Note:** The following example is used primarily because the data is public, and a good model of how RAG can improve generation. A more effective use case is when working with private documents such as internal policy docs, protected health information or customer service chat histories (using a private LLM) that models do not generally have access to."
   ]
  },
  {
   "cell_type": "markdown",
   "id": "410aaa16-ef02-4983-a427-475fa1e12a50",
   "metadata": {},
   "source": [
    "### Prep data\n",
    "\n",
    "Data exported from NIH CARDS database searching for various vitamins, supplements and restricted to human studies: https://cards.od.nih.gov/Application/Search"
   ]
  },
  {
   "cell_type": "code",
   "execution_count": 5,
   "id": "b36af64c-0f8e-4d81-89f4-06e15bfff2da",
   "metadata": {},
   "outputs": [],
   "source": [
    "import pandas as pd\n",
    "pd.set_option(\"max_colwidth\", 300)"
   ]
  },
  {
   "cell_type": "code",
   "execution_count": 6,
   "id": "149105e2-cbb6-4f68-973b-46eccfea1bb6",
   "metadata": {},
   "outputs": [],
   "source": [
    "studies_df=pd.read_csv('./data/nih_vitamin_studies.csv').drop('Unnamed: 13',axis=1)"
   ]
  },
  {
   "cell_type": "code",
   "execution_count": 7,
   "id": "aab2fc86-d116-4539-981f-799f90b6e64f",
   "metadata": {},
   "outputs": [
    {
     "data": {
      "text/html": [
       "<div>\n",
       "<style scoped>\n",
       "    .dataframe tbody tr th:only-of-type {\n",
       "        vertical-align: middle;\n",
       "    }\n",
       "\n",
       "    .dataframe tbody tr th {\n",
       "        vertical-align: top;\n",
       "    }\n",
       "\n",
       "    .dataframe thead th {\n",
       "        text-align: right;\n",
       "    }\n",
       "</style>\n",
       "<table border=\"1\" class=\"dataframe\">\n",
       "  <thead>\n",
       "    <tr style=\"text-align: right;\">\n",
       "      <th></th>\n",
       "      <th>Type</th>\n",
       "      <th>Activity Code</th>\n",
       "      <th>Project ID</th>\n",
       "      <th>Project Title</th>\n",
       "      <th>SubProject ID</th>\n",
       "      <th>Project End Date</th>\n",
       "      <th>Investigator Names</th>\n",
       "      <th>Country</th>\n",
       "      <th>Total Dollars Amount</th>\n",
       "      <th>Fiscal Year</th>\n",
       "      <th>Funding IC</th>\n",
       "      <th>Project Abstract</th>\n",
       "      <th>Public Health Relevance</th>\n",
       "    </tr>\n",
       "  </thead>\n",
       "  <tbody>\n",
       "    <tr>\n",
       "      <th>0</th>\n",
       "      <td>5</td>\n",
       "      <td>K23</td>\n",
       "      <td>DK084115</td>\n",
       "      <td>Investigations into the Glutamine-Citruline-Arginine Pathway in Sepsis</td>\n",
       "      <td>NaN</td>\n",
       "      <td>31-Dec-2015</td>\n",
       "      <td>Kao, Christina</td>\n",
       "      <td>UNITED STATES</td>\n",
       "      <td>171885</td>\n",
       "      <td>2014</td>\n",
       "      <td>DK</td>\n",
       "      <td>DESCRIPTION (provided by applicant):   Dr. Christina Kao is an assistant professor in the Section of Pulmonary, Critical Care, and Sleep Medicine at Baylor College of Medicine (BCM). Her short-term goal is to develop the knowledge and skills to conduct metabolic research using stable isotope ...</td>\n",
       "      <td>PUBLIC HEALTH RELEVANCE: Two compounds, arginine and glutamine, help our body fight severe infections. This research will help to better define the relationship between these two compounds and will determine if supplying more of one (glutamine) will in turn lead to increases in the other (argini...</td>\n",
       "    </tr>\n",
       "    <tr>\n",
       "      <th>1</th>\n",
       "      <td>5</td>\n",
       "      <td>R01</td>\n",
       "      <td>HD072120</td>\n",
       "      <td>Early Childhood Development for the Poor: Impacting at Scale</td>\n",
       "      <td>NaN</td>\n",
       "      <td>31-May-2018</td>\n",
       "      <td>Meghir, Konstantinos</td>\n",
       "      <td>UNITED STATES</td>\n",
       "      <td>427218</td>\n",
       "      <td>2014</td>\n",
       "      <td>HD</td>\n",
       "      <td>DESCRIPTION (provided by applicant): Neurobiological science has established that the first three years of life lay the basis for lifelong outcomes. But during this life-cycle stage children living in poverty are often vulnerable to negative influences including malnutrition, illnesses, an ...</td>\n",
       "      <td>PUBLIC HEALTH RELEVANCE: By identifying cost-effective and scalable early-years interventions, our research has the potential to revolutionize early childhood development (ECD) policies and contribute to breaking the intergenerational cycle of poverty. If the interventions we  propose to test pr...</td>\n",
       "    </tr>\n",
       "  </tbody>\n",
       "</table>\n",
       "</div>"
      ],
      "text/plain": [
       "   Type Activity Code Project ID  \\\n",
       "0     5           K23   DK084115   \n",
       "1     5           R01   HD072120   \n",
       "\n",
       "                                                            Project Title  \\\n",
       "0  Investigations into the Glutamine-Citruline-Arginine Pathway in Sepsis   \n",
       "1            Early Childhood Development for the Poor: Impacting at Scale   \n",
       "\n",
       "   SubProject ID Project End Date     Investigator Names        Country  \\\n",
       "0            NaN      31-Dec-2015        Kao, Christina   UNITED STATES   \n",
       "1            NaN      31-May-2018  Meghir, Konstantinos   UNITED STATES   \n",
       "\n",
       "   Total Dollars Amount  Fiscal Year Funding IC  \\\n",
       "0                171885         2014         DK   \n",
       "1                427218         2014         HD   \n",
       "\n",
       "                                                                                                                                                                                                                                                                                              Project Abstract  \\\n",
       "0     DESCRIPTION (provided by applicant):   Dr. Christina Kao is an assistant professor in the Section of Pulmonary, Critical Care, and Sleep Medicine at Baylor College of Medicine (BCM). Her short-term goal is to develop the knowledge and skills to conduct metabolic research using stable isotope ...   \n",
       "1       DESCRIPTION (provided by applicant): Neurobiological science has established that the first three years of life lay the basis for lifelong outcomes. But during this life-cycle stage children living in poverty are often vulnerable to negative influences including malnutrition, illnesses, an ...   \n",
       "\n",
       "                                                                                                                                                                                                                                                                                       Public Health Relevance  \n",
       "0  PUBLIC HEALTH RELEVANCE: Two compounds, arginine and glutamine, help our body fight severe infections. This research will help to better define the relationship between these two compounds and will determine if supplying more of one (glutamine) will in turn lead to increases in the other (argini...  \n",
       "1  PUBLIC HEALTH RELEVANCE: By identifying cost-effective and scalable early-years interventions, our research has the potential to revolutionize early childhood development (ECD) policies and contribute to breaking the intergenerational cycle of poverty. If the interventions we  propose to test pr...  "
      ]
     },
     "execution_count": 7,
     "metadata": {},
     "output_type": "execute_result"
    }
   ],
   "source": [
    "studies_df.head(2)"
   ]
  },
  {
   "cell_type": "code",
   "execution_count": 8,
   "id": "416ab0a0-2c12-48fd-8aeb-ee4c777b17e8",
   "metadata": {},
   "outputs": [],
   "source": [
    "studies_df=studies_df.fillna('')"
   ]
  },
  {
   "cell_type": "code",
   "execution_count": 9,
   "id": "793ce207-2d92-4ab6-ad40-d5d846fb1adf",
   "metadata": {},
   "outputs": [],
   "source": [
    "# Limit to key data columns and keep project ID and Investator Names for later citation reference\n",
    "studies_df=studies_df[['Project Title','Project ID','Investigator Names','Project Abstract']]"
   ]
  },
  {
   "cell_type": "code",
   "execution_count": 76,
   "id": "c130a33c-4105-465d-bf12-f6341594973d",
   "metadata": {
    "tags": []
   },
   "outputs": [],
   "source": [
    "# Remove duplicates- lots of similar studies with same title\n",
    "studies_df=studies_df.drop_duplicates(subset=['Project Title'])"
   ]
  },
  {
   "cell_type": "code",
   "execution_count": 77,
   "id": "a12c46bc-611f-4012-ac15-119ac45aa89d",
   "metadata": {},
   "outputs": [],
   "source": [
    "# Convert to list of dictionaries for Cohere API\n",
    "documents=studies_df.to_dict('records')"
   ]
  },
  {
   "cell_type": "code",
   "execution_count": 78,
   "id": "81873244-edb8-4b65-8577-1f61befb32b0",
   "metadata": {
    "scrolled": true
   },
   "outputs": [
    {
     "data": {
      "text/plain": [
       "{'Project Title': 'Impact of Emergency Department Probiotic Treatment of Pediatric Gastroenteritis',\n",
       " 'Project ID': 'HD071915',\n",
       " 'Investigator Names': 'Freedman, Stephen ; Schnadower, David ',\n",
       " 'Project Abstract': \"     DESCRIPTION (provided by applicant): Acute gastroenteritis (AGE) is a leading cause of malnutrition and death worldwide. In the US, close to 48 million people contract AGE and 128,000 are hospitalized each year . Episodes of AGE can result in substantial morbidity to children and their families. In addition, the costs to caregivers, the health-care system, and society are significant. At present, treatment options are limited and targeted at symptom management rather than disease modification. Probiotics - live microbial cultures which, when consumed in adequate amounts, confer documented health benefits - may be an ideal solution. They are hypothesized to work via a combination of direct microbiologic and immunologic mechanisms. Probiotics have shown promise in early clinical research in hospitalized children in developing countries. These early efforts are limited by small samples, outcomes lacking relevance to outpatients, poor methodology and absence of side effect reporting; thus, the potential role of probiotics remains poorly defined and practice guidelines do not endorse their use. There are current trends, however, that obligate an urgent assessment of these agents. First, probiotic manufacturers have embarked in aggressive public marketing strategies that make health claims that may not be supported by rigorous research, and the world-wide market for probiotic products is growing steadily (projected growth 2009-2014 12.6% for a total of US $32.6 billion/year). Second, government agencies (US FDA and European Food safety Authority (EFSA)) remain concerned about their value and safety. Third, some institutions are now recommending the use of probiotics based on potentially flawed or limited evidence. Fourth, parents of patients with AGE are often medicating their children without guidance from medical professionals. We are therefore concerned that probiotic consumption is increasing without solid evidence to support its use, which underscores the necessity to conduct a definitive trial without delay. Objectives - The overall objective of this multi-national randomized clinical trial is to determine if a specific probiotic agent, Lactobacillus rhamnosus GG(LGG), the most widely available, studied and regulated probiotic in the US, should routinely be administered to outpatient children who are suffering from AGE. The specific aims of this proposal are: (1) to determine the clinical effectiveness of LGG and (2) to determine the safety and side effect profile of LGG in children 3-48 months of age presenting to the Emergency Department (ED) with AGE. Study Setting & Design - The study will be conducted in 8 US pediatric emergency departments within the federally funded Pediatric Emergency Care Applied Research Network (PECARN). We will randomize 900 children to receive 5 days of a probiotic agent (LGG 1 x 1010 CFU twice a day) or placebo. The main outcome is the occurrence of moderate-severe disease as defined by the Modified Vesikari Score, a validated clinical severity score, which incorporates the frequency and duration of diarrhea, frequency and duration of vomiting, height of fever, need for future health-care visits and medical interventions provided. We will also assess the occurrence of adverse events and side effects related to the use of LGG. We will collect stool samples to conduct mechanism of action studies as well as economic data to conduct cost effectiveness analyses in the future. Impact - This study will directly inform clinica practice by providing the first definitive evidence to support recommendations for or against the routine use of probiotics in the treatment of pediatric AGE. In addition it will provide health-car practitioners and policy makers with (a) a clear picture on the potential side effects from probiotic use, and with the data collected (b) knowledge on the mechanism of action and (c) of the potential economic impact of probiotic use on health-care systems and society. Thus, the potential clinical and societal impacts of the proposed study are substantial and the results will guide the standard of care: if positive, guidelines will be able to endorse probiotic administratio with important positive consequences for the health of several million US children annually. Moreover, if beneficial the cost savings to the health-care system and society may be substantial. If the results are negative, a firm recommendation against the routine use of probiotics would be justified. Collaborators - This work is collaboration between leaders in multicenter and AGE research (Schnadower, Freedman, Tarr, Gorelick, Mahajan, Stanley, Roskind, Powell, O'Connel, Ruddy Chun, Levine and Casper) in prestigious Children's Hospitals within a federally funded multicenter network (PECARN) with a strong record in conducting high quality, high impact clinical trials.          \"}"
      ]
     },
     "execution_count": 78,
     "metadata": {},
     "output_type": "execute_result"
    }
   ],
   "source": [
    "# Sample\n",
    "documents[15]"
   ]
  },
  {
   "cell_type": "markdown",
   "id": "ac02ee00-8b38-4733-8c73-09c45513e88c",
   "metadata": {},
   "source": [
    "### Question without documents\n",
    "First let's ask some questions without supplying any additional context."
   ]
  },
  {
   "cell_type": "code",
   "execution_count": 100,
   "id": "e78f830b-e73b-476a-849b-3f938a0a5fa5",
   "metadata": {},
   "outputs": [],
   "source": [
    "# Get the user message\n",
    "message = \"Can vitamin D fight cancer?\"\n",
    "\n",
    "# Generate the response\n",
    "response = co.chat_stream(message=message,\n",
    "                          model=\"command-r-plus\",)"
   ]
  },
  {
   "cell_type": "code",
   "execution_count": 101,
   "id": "f3a7ab98-fc90-48f7-bd56-e15f19b5f242",
   "metadata": {},
   "outputs": [
    {
     "name": "stdout",
     "output_type": "stream",
     "text": [
      "While vitamin D is known for its role in bone health, there is ongoing research investigating its potential benefits in cancer prevention and treatment. Here's an overview of the current understanding of the relationship between vitamin D and cancer:\n",
      "\n",
      "1. Cancer Prevention:\n",
      "   - Some observational studies suggest that higher levels of vitamin D in the body may be associated with a lower risk of certain types of cancer, including colorectal, breast, and prostate cancer. However, it's important to note that these studies show correlation, not causation.\n",
      "   - Vitamin D is believed to have anti-cancer properties because it may help regulate cell growth and differentiation, inhibit tumor angiogenesis (formation of new blood vessels that feed tumors), and promote cell death in cancer cells.\n",
      "\n",
      "2. Cancer Treatment:\n",
      "   - In vitro (laboratory) and animal studies have shown that vitamin D and its analogs can slow or prevent the growth of cancer cells and may enhance the effectiveness of certain chemotherapy drugs.\n",
      "   - However, the impact of vitamin D supplementation on cancer treatment in humans is less clear. Some clinical trials have suggested potential benefits, while others have shown no significant impact.\n",
      "\n",
      "3. Recommendations:\n",
      "   - Currently, there is insufficient evidence to recommend high-dose vitamin D supplementation solely for cancer prevention or treatment. However, maintaining adequate vitamin D levels through sun exposure, diet, and/or supplementation is generally recommended for overall health.\n",
      "   - Individuals at high risk for cancer or those undergoing cancer treatment may consider discussing their vitamin D status and appropriate supplementation with their healthcare provider. It's important to note that excessive vitamin D intake can have adverse effects, so it should be used cautiously.\n",
      "\n",
      "In summary, while vitamin D may have some anti-cancer properties, the current evidence is inconclusive regarding its effectiveness in cancer prevention or treatment. More well-designed clinical trials are needed to fully understand the role of vitamin D in cancer. Maintaining adequate vitamin D levels is recommended, but it should not be solely relied upon as a cancer prevention or treatment strategy at this time."
     ]
    }
   ],
   "source": [
    "for event in response:\n",
    "    if event.event_type == \"text-generation\":\n",
    "        print(event.text, end=\"\")\n",
    "    elif event.event_type == \"citation-generation\":\n",
    "        citations.extend(event.citations)\n"
   ]
  },
  {
   "cell_type": "markdown",
   "id": "fb1ce250-3747-4407-ae75-753cb57f5e2a",
   "metadata": {},
   "source": [
    "### Send bulk documents directly with question\n",
    "Vitamin D deficiency and supplementation is pretty well studied, so the results above aren't bad, but they do not provide sources. Let's directly send the same question along with some documents as context."
   ]
  },
  {
   "cell_type": "code",
   "execution_count": 102,
   "id": "91236cb9-23fa-487b-9fb5-f99082a0abec",
   "metadata": {},
   "outputs": [],
   "source": [
    "# Get the user message\n",
    "message = \"Can vitamin D fight cancer?\"\n",
    "\n",
    "# Generate the response\n",
    "response = co.chat_stream(message=message,\n",
    "                          model=\"command-r-plus\",\n",
    "                          documents=documents[:20] # doesn't handle more than this many\n",
    "                         )"
   ]
  },
  {
   "cell_type": "code",
   "execution_count": 103,
   "id": "bcd8f4fb-bb37-476d-9145-5166fef2e761",
   "metadata": {
    "scrolled": true
   },
   "outputs": [
    {
     "name": "stdout",
     "output_type": "stream",
     "text": [
      "There is some evidence that vitamin D can help fight cancer. Vitamin D deficiency has been linked to an increased risk of prostate cancer, and treatment with vitamin D has been shown to reduce prostate cancer disease progression in multiple studies. Additionally, vitamin D has been shown to protect against bone mineral density loss and fractures, which are common side effects of androgen deprivation therapy used in elderly prostate cancer patients. Vitamin D may also play a role in reducing the risk of HIV-related cancers, as vitamin D deficiency is widespread among HIV-infected adults and children. Furthermore, vitamin D supplementation has been found to improve cardiac function, which may be beneficial in cancer treatment. However, more research is needed to fully understand the role of vitamin D in cancer prevention and treatment.\n",
      "\n",
      "CITATIONS:\n",
      "start=61 end=137 text='Vitamin D deficiency has been linked to an increased risk of prostate cancer' document_ids=['doc_11']\n",
      "start=143 end=249 text='treatment with vitamin D has been shown to reduce prostate cancer disease progression in multiple studies.' document_ids=['doc_11']\n",
      "start=292 end=347 text='protect against bone mineral density loss and fractures' document_ids=['doc_18']\n",
      "start=359 end=452 text='common side effects of androgen deprivation therapy used in elderly prostate cancer patients.' document_ids=['doc_18']\n",
      "start=487 end=527 text='reducing the risk of HIV-related cancers' document_ids=['doc_5']\n",
      "start=532 end=606 text='vitamin D deficiency is widespread among HIV-infected adults and children.' document_ids=['doc_5']\n",
      "start=664 end=688 text='improve cardiac function' document_ids=['doc_12']\n",
      "\n",
      "DOCUMENTS:\n",
      "{'Investigator Names': 'KITTLES, RICK Antonius', 'Project Abstract': ' ABSTRACT Disparities in prostate cancer (Pca) are caused by complex interactions of genetic susceptibility, individual risk factors, and environmental factors. Pca is the second leading cause of death among all men; however African American (AA) men have the highest mortality rate of Pca of any racial/ethnic group in the U.S. This difference in mortality accounts for 44% of the overall cancer mortality disparity between AA and European-American (EA) men. Thus, there is a critical need to explore the etiologic pathways that contribute to this disparity. Unfortunately, the only well-established risk factors (age, race and family history) for Pca are non-modifiable. However recent studies have found low levels of vitamin D have been associated with increased Pca risk, and treatment with vitamin D has reduced Pca disease progression in multiple studies. These studies support the hypothesis that vitamin D deficiency increases the risk of Pca and that vitamin D is a potential chemopreventive and therapeutic agent. Although genetic and environmental factors including common low penetrant alleles, diet, body mass index (BMI), and vitamin D levels may affect risk, their significance and multiple joint effects are unclear. Extensive data exists in support of a critical role for Vitamin D3 [25(OH) vitamin D] on Pca risk. However, it is difficult to determine its importance mainly because Vitamin D is synthesized in the skin, and serum levels are strongly influenced by skin color, genetic ancestry, age, BMI, and environmental factors such as sunlight exposure and diet. The goal of this project is to explore the effects of serum Vitamin D, UVR exposure, skin color, age, BMI, and genes involved in Vitamin D synthesis, metabolism and signaling on Pca and aggressive Pca risk in a study of 2,000 AA and 2,000 EA men. Men aged 40-79 will be recruited from a consortium of Chicago hospitals including, the University Illinois at Chicago Hospital System, University of Chicago Medical Center, Northwestern Memorial Hospital, John H. Stroger Cook County Hospital, and the Jesse Brown Veteran Affairs Medical Center. This project will improve our understanding of the role Vitamin D plays on prostate cancer susceptibility, specifically among African Americans, and if lower vitamin D levels in AAs account for a portion of the disparity in Pca incidence and mortality between AAs and EAs. More importantly, given that UVR and diet are general environmental exposures that can be easily modified, understanding their impact may have broad health implications.', 'Project ID': 'MD007105', 'Project Title': 'Biological and Environmental modifiers of Vitamin D3 and Prostate Cancer Risk', 'id': 'doc_11'}\n",
      "{'Investigator Names': 'Peppone, Luke ', 'Project Abstract': '     DESCRIPTION (provided by applicant): Use of androgen deprivation therapy (ADT), which causes near-total loss of testosterone, has increased dramatically in elderly prostate cancer patients over the last decade. ADT is associated with a 5- to 10-fold greater loss of bone mineral density (BMD), a 7-fold increase in bone fractures, and a significant increase in sarcopenia (muscle mass atrophy) compared to age-matched prostate cancer patients not on ADT and men without cancer. The loss of BMD and muscle mass is associated with a high prevalence of physical deficits such as falls, reduced muscular strength, and decreased balance. Despite the high prevalence of ADT-related side effects, treatment options are limited. Bisphosphonate therapy is an effective treatment for ADT-induced bone loss, but is not indicated for the prevention of bone loss. Vitamin D protects against BMD loss and fractures, but its effects are strongly dose-dependent. Current IOM recommended supplementation (600 IU/day) and serum 25-OH levels (20 ng/mL) are inadequate to protect against bone loss in a high risk population such as prostate cancer patients on ADT, as evidenced by increased BMD with serum 25-OH vitamin D levels e32 ng/mL. In addition, RCT interventions of 400-500 IU/day of vitamin D failed to prevent ADT-induced bone loss. High-dose vitamin D supplementation (e.g., 50,000 IU/week) is a promising intervention that significantly increases 25-OH vitamin D to levels shown to improve BMD. Vitamin D has also been shown to increase muscular strength, reduce falls, and improve balance. Preliminary data from our group in 190 cancer patients demonstrates high-dose vitamin D supplementation (e50,000 IU/week) for 6 months in prostate cancer patients receiving treatment (e.g., ADT,                chemotherapy) is safe and well-tolerated. Other preliminary data from our group also show high-dose vitamin D supplementation (50,000 IU/week) in cancer patients significantly increases 25-OH vitamin D levels while low-dose vitamin supplementation (7,000 IU/week) does not. Based on biological plausibility and our preliminary data, we propose to conduct a two-arm randomized controlled trial in which 76 prostate cancer patients 65 years old and older on ADT will be randomized to receive 1) 50,000 IU/week vitamin D or 2) a matching placebo. All participants will receive a daily multivitamin (600 IU vitamin D) and a 1,000 mg/day calcium supplement to ensure a minimum of 100% RDA. The primary aim will evaluate the effect of high-dose vitamin D supplementation on BMD, while the secondary aims will evaluate the effect of high-dose vitamin D supplementation on muscle mass, falls, muscle strength, and physical performance. The study proposed herein is designed to provide critical preliminary information and data to inform an anticipated R01 proposal. This study would represent one of first clinical trials to examine the effect of high-dose vitamin D supplementation on ADT-related side effects in older prostate cancer patients. If successful, the benefit of a reduced burden from ADT in older prostate cancer patients as a result of this study could be considerable.          ', 'Project ID': 'CA175793', 'Project Title': 'High-dose Vitamin D Supplementation for ADT-induced Side Effects', 'id': 'doc_18'}\n",
      "{'Investigator Names': 'Eckard, Allison ', 'Project Abstract': \"    DESCRIPTION (provided by applicant): Vitamin D is critical in many physiologic and pathophysiologic processes including inflammatory status, immune function, and cardiovascular health. Vitamin D deficiency is widespread among HIV-infected adults and children. This is particularly alarming since there is a higher risk than the general population for complications like osteoporosis, non-AIDS-defining malignancies, and cardiovascular disease (CVD) - all diseases associated with vitamin D deficiency. It is not known how much vitamin D deficiency heightens the risk of complications like CVD, affects immune function and disease progression, or interferes with optimal treatment in the HIV population. The impact of vitamin D deficiency in the HIV population may be compounded even further since the etiology of HIV-related complications like CVD is thought to be related in part to inflammation and detrimental endothelial effects associated with chronic HIV infection-similar proposed mechanisms as vitamin D deficiency. Data suggest that optimal vitamin D status may be protective against these HIV-related complications, and optimizing vitamin D status with oral supplementation in HIV-infected individuals may improve the risk of HIV-related complications by decreasing inflammation and/or improving endothelial dysfunction, and may improve immune function even in individuals on antiretroviral therapy. Developing suitable repletion strategies is crucial to maximizing health status, particularly in HIV-infected children and young adults, where an opportunity exists for disease prevention. However, the best method of vitamin D repletion is not known, and data suggest that some antiretroviral medications interfere with vitamin D metabolism. Thus, we hypothesize that (1) optimizing vitamin D status to the current Institute of Medicine's (IOM) suggested 25-hydroxyvitamin D (25(OH)D) concentration of e20 ng/mL improves CVD risk, inflammation, and CD4 cell counts in HIV-infected individuals, (2) increasing 25(OH)D concentrations to >30 ng/mL improves CVD risk and inflammation to a greater degree than increasing eto 20 ng/mL (the concentration some experts consider optimal for cardiovascular health), and (3) a 'high dose' of oral vitamin D is necessary to achieve 25(OH)D concentrations >30 ng/mL. These hypotheses will be addressed by determining the longitudinal relationships between serum 25(OH)D concentrations, carotid intima-media thickness, pulse wave velocity, pro-inflammatory biomarkers, and CD4 cell counts in HIV-infected children and young adults in a double-blinded, randomized-controlled trial of three different vitamin D dosing regimens given over 24 months in HIV-infected children and young adults (ages 10-25 years) with vitamin D deficiency (25(OH)D <20 ng/mL). We will also evaluate the 25(OH)D concentrations from each arm after 6, 12, and 24 months of supplementation, in order to determine a dose-response relationship. These findings could have a sizable impact on health in this population, since vitamin D therapy is inexpensive and associated with few adverse side effects. The PI is an exceptional candidate who is a pediatric infectious diseases specialist with a proven research focus in the metabolic and cardiovascular complications of HIV. She is mentored by a committed, multidisciplinary team of senior investigators with extensive experience in both mentoring and in the research methodologies relevant to this proposal. Future training in all aspects of clinical research, cardiovascular disease risk assessment, and clinical nutrition is planned to facilitate the PI's development into a successful independent physician scientist.        \", 'Project ID': 'HD069199', 'Project Title': 'Vitamin D status and HIV-related complications in children and young adults', 'id': 'doc_5'}\n",
      "{'Investigator Names': 'THADHANI, RAVI ; WANG, THOMAS ', 'Project Abstract': '    DESCRIPTION (provided by applicant): Experimental and observational data suggest that vitamin D supplementation reduces left ventricular hypertrophy and improves cardiac function. Prospective clinical data, however, are lacking. Thus, we propose an ancillary study to the Vitamin D and OmegA-3 Trial (VITAL) (U01CA138962), an outcomes trial of vitamin D supplementation in 20,000 men and women (aged ¿60 and 65 years, respectively). Because VITAL lacks any direct assessment of cardiac structure and function, we propose to perform cardiac imaging with echocardiography in 1,000 VITAL subjects pre-randomization and at 3 years. These data may answer several important questions that are not being addressed by the parent trial. Specifically, VITAL is focused on vascular endpoints (myocardial infarction, stroke), raising the possibility that important effects of vitamin D on the heart itself could be missed. Because there is compelling experimental evidence regarding the direct myocardial effects of vitamin D, assessment of cardiac structure and function would provide invaluable clinical and mechanistic insight, regardless of the outcome of the overall parent trial. The investigators have extensive experience in subclinical cardiovascular imaging, coordination of randomized trials (including the parent VITAL study), and clinical and experimental nutritional research. The study represents a unique and cost- effective opportunity to investigate measures of cardiac structure and function in a large, diverse primary prevention trial.  ', 'Project ID': 'HL112746', 'Project Title': 'Impact of vitamin D supplementation on cardiac structure and function', 'id': 'doc_12'}\n"
     ]
    }
   ],
   "source": [
    "# Display the response\n",
    "citations = []\n",
    "cited_documents = []\n",
    "\n",
    "for event in response:\n",
    "    if event.event_type == \"text-generation\":\n",
    "        print(event.text, end=\"\")\n",
    "    elif event.event_type == \"citation-generation\":\n",
    "        citations.extend(event.citations)\n",
    "    elif event.event_type == \"stream-end\":\n",
    "        cited_documents = event.response.documents\n",
    "\n",
    "# Display the citations and source documents\n",
    "if citations:\n",
    "  print(\"\\n\\nCITATIONS:\")\n",
    "  for citation in citations:\n",
    "    print(citation)\n",
    "\n",
    "  print(\"\\nDOCUMENTS:\")\n",
    "  for document in cited_documents:\n",
    "    print(document)"
   ]
  },
  {
   "cell_type": "markdown",
   "id": "d9eec4e3-7f9f-4c64-ab3a-4a4b9164358e",
   "metadata": {},
   "source": [
    "**Problem!** There is a limit on how much you can send as context! The amount varies with the LLM model, but better to first find the most relevant documents and only send those as context. \n",
    "Embedders embed doc chunks/passages as vectors and allow you to do various similarity searches to find relevant documents out of the (hopefully large) dataset you embed. \n"
   ]
  },
  {
   "cell_type": "markdown",
   "id": "288d98e4-19b1-40bc-b25e-9fe5b0afb0b9",
   "metadata": {},
   "source": [
    "### Embed documents\n",
    "Modified from Cohere's intro that uses unstructured library https://cohere.com/blog/rag-chatbot#embed-the-document-chunks\n",
    "\n",
    "This uses [hnswlib](https://js.langchain.com/docs/integrations/vectorstores/hnswlib) an in-memory vector store. Other tools you could use include weaviate, pgvector for embedding. \n",
    "\n"
   ]
  },
  {
   "cell_type": "code",
   "execution_count": 17,
   "id": "f1f4a930-7775-44f0-8809-7f3463f326cd",
   "metadata": {},
   "outputs": [],
   "source": [
    "import hnswlib\n",
    "from typing import List, Dict\n"
   ]
  },
  {
   "cell_type": "code",
   "execution_count": 118,
   "id": "02d51206-4922-48b1-a48c-563b3e0124da",
   "metadata": {
    "tags": []
   },
   "outputs": [],
   "source": [
    "class Vectorstore:\n",
    "    \"\"\"\n",
    "    A class representing a collection of documents indexed into a vectorstore.\n",
    "\n",
    "    Parameters:\n",
    "    raw_documents (list): A list of dictionaries representing the sources of the raw documents. Each dictionary should have 'title' and 'url' keys.\n",
    "\n",
    "    Attributes:\n",
    "    raw_documents (list): A list of dictionaries representing the raw documents.\n",
    "    docs (list): A list of dictionaries representing the chunked documents, with 'title', 'text', and 'url' keys.\n",
    "    docs_embs (list): A list of the associated embeddings for the document chunks.\n",
    "    docs_len (int): The number of document chunks in the collection.\n",
    "    idx (hnswlib.Index): The index used for document retrieval.\n",
    "\n",
    "    Methods:\n",
    "    load_and_chunk(): Loads the data from the sources and partitions the HTML content into chunks.\n",
    "    embed(): Embeds the document chunks using the Cohere API.\n",
    "    index(): Indexes the document chunks for efficient retrieval.\n",
    "    retrieve(): Retrieves document chunks based on the given query.\n",
    "    \"\"\"\n",
    "\n",
    "    def __init__(self, document_list: List[Dict[str, str]]):\n",
    "        self.document_list = document_list\n",
    "        self.docs = []\n",
    "        self.docs_embs = []\n",
    "        self.retrieve_top_k = 10\n",
    "        self.rerank_top_k = 3\n",
    "        self.load_text()\n",
    "        self.embed()\n",
    "        self.index()\n",
    "\n",
    "    def load_text(self) -> None:\n",
    "        \"\"\"\n",
    "        Loads the text from the sources and chunks the HTML content.\n",
    "        \"\"\"\n",
    "        print(\"Loading documents...\")\n",
    "\n",
    "        for doc_data in self.document_list:\n",
    "            \n",
    "            for doc in doc_data:\n",
    "                self.docs.append(\n",
    "                    {\n",
    "                        \"title\": doc[\"Project Title\"],\n",
    "                        \"text\": doc['Project Abstract'],\n",
    "                        \"project_id\": doc['Project ID'],\n",
    "                        \"authors\": doc['Investigator Names'], \n",
    "                    }\n",
    "                )\n",
    "    \n",
    "    def embed(self) -> None:\n",
    "        \"\"\"\n",
    "        Embeds the document text using the Cohere API.\n",
    "        \"\"\"\n",
    "        print(\"Embedding document chunks...\")\n",
    "\n",
    "        batch_size = 50\n",
    "        self.docs_len = len(self.docs)\n",
    "        for i in range(0, self.docs_len, batch_size):\n",
    "            batch = self.docs[i : min(i + batch_size, self.docs_len)]\n",
    "            texts = [item[\"text\"] for item in batch]\n",
    "            docs_embs_batch = co.embed(\n",
    "                texts=texts, model=\"embed-english-v3.0\", input_type=\"search_document\"\n",
    "            ).embeddings\n",
    "            self.docs_embs.extend(docs_embs_batch)\n",
    "\n",
    "    def index(self) -> None:\n",
    "        \"\"\"\n",
    "        Indexes the document chunks for efficient retrieval.\n",
    "        \"\"\"\n",
    "        print(\"Indexing document chunks...\")\n",
    "\n",
    "        self.idx = hnswlib.Index(space=\"ip\", dim=1024)\n",
    "        self.idx.init_index(max_elements=self.docs_len, ef_construction=512, M=64)\n",
    "        self.idx.add_items(self.docs_embs, list(range(len(self.docs_embs))))\n",
    "\n",
    "        print(f\"Indexing complete with {self.idx.get_current_count()} document chunks.\")\n",
    "\n",
    "    def retrieve(self, query: str, rerank_topk: int) -> List[Dict[str, str]]:\n",
    "        \"\"\"\n",
    "        Retrieves document chunks based on the given query.\n",
    "\n",
    "        Parameters:\n",
    "        query (str): The query to retrieve document chunks for.\n",
    "\n",
    "        Returns:\n",
    "        List[Dict[str, str]]: A list of dictionaries representing the retrieved document chunks, with 'title', 'text', and 'url' keys.\n",
    "        \"\"\"\n",
    "    \n",
    "        # Dense retrieval\n",
    "        query_emb = co.embed(\n",
    "            texts=[query], model=\"embed-english-v3.0\", input_type=\"search_query\"\n",
    "        ).embeddings\n",
    "\n",
    "        doc_ids = self.idx.knn_query(query_emb, k=self.retrieve_top_k)[0][0]\n",
    "\n",
    "        # Reranking\n",
    "        rank_fields = [\"title\", \"text\"] # We'll use the title and text fields for reranking\n",
    "\n",
    "        docs_to_rerank = [self.docs[doc_id] for doc_id in doc_ids]\n",
    "\n",
    "        rerank_results = co.rerank(\n",
    "            query=query,\n",
    "            documents=docs_to_rerank,\n",
    "            top_n=rerank_topk,\n",
    "            model=\"rerank-english-v3.0\",\n",
    "            rank_fields=rank_fields\n",
    "        )\n",
    "\n",
    "        doc_ids_reranked = [doc_ids[result.index] for result in rerank_results.results]\n",
    "\n",
    "        docs_retrieved = []\n",
    "        for doc_id in doc_ids_reranked:\n",
    "            docs_retrieved.append(\n",
    "                {\n",
    "                    \"title\": self.docs[doc_id][\"title\"],\n",
    "                    \"text\": self.docs[doc_id][\"text\"],\n",
    "                    \"project_id\": self.docs[doc_id][\"project_id\"],\n",
    "                }\n",
    "            )\n",
    "\n",
    "        return docs_retrieved"
   ]
  },
  {
   "cell_type": "code",
   "execution_count": 119,
   "id": "bf3e08c9-d69c-48d6-a666-fdb43ae45fcd",
   "metadata": {},
   "outputs": [
    {
     "name": "stdout",
     "output_type": "stream",
     "text": [
      "Loading documents...\n",
      "Embedding document chunks...\n",
      "Indexing document chunks...\n",
      "Indexing complete with 283 document chunks.\n"
     ]
    }
   ],
   "source": [
    "# Create a vectorstore and embed ALL the documents\n",
    "vectorstore = Vectorstore([documents])"
   ]
  },
  {
   "cell_type": "markdown",
   "id": "dfd2cf47-4dba-4103-97bb-b771da06f3e0",
   "metadata": {
    "tags": []
   },
   "source": [
    "### Embed/rerank step by step\n",
    "- embed docs with HNSWlib vectorstore\n",
    "- embed query, search (uses knn) and retrieve top 10 documents \n",
    "- use Cohere's rerank to weight which docs are most relevant to the query"
   ]
  },
  {
   "cell_type": "code",
   "execution_count": 120,
   "id": "972c9463-435c-4b7d-8e3e-09a4b9550db3",
   "metadata": {
    "tags": []
   },
   "outputs": [
    {
     "data": {
      "text/plain": [
       "10"
      ]
     },
     "execution_count": 120,
     "metadata": {},
     "output_type": "execute_result"
    }
   ],
   "source": [
    "vectorstore.retrieve_top_k"
   ]
  },
  {
   "cell_type": "code",
   "execution_count": 121,
   "id": "cf1c71d8-0063-4c89-9bbd-b6fa3d9ea876",
   "metadata": {
    "tags": []
   },
   "outputs": [],
   "source": [
    "message = \"Can vitamin D fight cancer?\"\n"
   ]
  },
  {
   "cell_type": "code",
   "execution_count": 122,
   "id": "b1a3fd69-c9f0-4952-afac-96962a658835",
   "metadata": {
    "tags": []
   },
   "outputs": [],
   "source": [
    "# Embed query \n",
    "query_emb = co.embed(\n",
    "        texts=[message], model=\"embed-english-v3.0\", input_type=\"search_query\"\n",
    "    ).embeddings\n",
    "# Perform a knn search and retrieve the top 10 docs\n",
    "doc_ids = vectorstore.idx.knn_query(query_emb, k=vectorstore.retrieve_top_k)[0][0]\n",
    "docs_to_rerank=[vectorstore.docs[doc_id] for doc_id in doc_ids]\n"
   ]
  },
  {
   "cell_type": "code",
   "execution_count": 123,
   "id": "b4be7ed4-e717-4219-a895-f11b9a3095cb",
   "metadata": {
    "tags": []
   },
   "outputs": [
    {
     "name": "stdout",
     "output_type": "stream",
     "text": [
      "Novel randomized controlled trials of vitamin D supplementation in patients with colorectal cancer: Impact on survival and biology\n",
      "Leveraging Novel Randomized Clinical Trials of Vitamin D Supplementation in Patients with Colorectal Cancer: Impact on Survival and Anti-Tumor Immunity\n",
      "Project 2: Colorectal Cancer\n",
      "Biological and Environmental modifiers of Vitamin D3 and Prostate Cancer Risk\n",
      "High-dose Vitamin D Supplementation for ADT-induced Side Effects\n",
      "Vitamin D and Follicular Lymphoma\n",
      "Vitamin D3, Calcium and Inflammation, Immunomodulation and Colonic Permeability\n",
      "Project 1:  The Role of Vitamin D in Protecting Against Cachexia in Cancer Patients\n",
      "Vitamin D3, Calcium and Biomarkers of Gut Barrier Function\n",
      "The Effects of Vitamin D on Mammographic Density and Breast Tissue\n"
     ]
    }
   ],
   "source": [
    "# Peek at the titles retrieved\n",
    "for doc in docs_to_rerank:\n",
    "    print(doc['title'])"
   ]
  },
  {
   "cell_type": "markdown",
   "id": "041a8a0b-9fde-4692-a7ef-33b7b4971b00",
   "metadata": {},
   "source": [
    "### Reranking\n",
    "Reranking takes the document chunks retrieved and reranks their relevance them based on context and domain. Whereas retrieval may focus on context searches specific to the words in the query, a reranker tries to focus on the general subject of the query and will rank retrieval results by relevance to that subject."
   ]
  },
  {
   "cell_type": "code",
   "execution_count": 125,
   "id": "40db1354-0f9b-47e6-a217-8f2996ca91a9",
   "metadata": {
    "tags": []
   },
   "outputs": [],
   "source": [
    "# Reranking with default top_k=3\n",
    "rank_fields = [\"title\", \"text\"] # We'll use the title and text fields for reranking\n",
    "\n",
    "rerank_results = co.rerank(\n",
    "    query=message,\n",
    "    documents=docs_to_rerank,\n",
    "    top_n=3,\n",
    "    model=\"rerank-english-v3.0\",\n",
    "    rank_fields=rank_fields\n",
    ")\n",
    "\n",
    "doc_ids_reranked = [doc_ids[result.index] for result in rerank_results.results]\n",
    "docs_reranked=[vectorstore.docs[doc_id] for doc_id in doc_ids_reranked]"
   ]
  },
  {
   "cell_type": "code",
   "execution_count": 128,
   "id": "a90af028-42a1-4364-b80a-ec605e76e675",
   "metadata": {
    "tags": []
   },
   "outputs": [
    {
     "name": "stdout",
     "output_type": "stream",
     "text": [
      "Leveraging Novel Randomized Clinical Trials of Vitamin D Supplementation in Patients with Colorectal Cancer: Impact on Survival and Anti-Tumor Immunity\n",
      "Novel randomized controlled trials of vitamin D supplementation in patients with colorectal cancer: Impact on survival and biology\n",
      "The Effects of Vitamin D on Mammographic Density and Breast Tissue\n"
     ]
    }
   ],
   "source": [
    "for doc in docs_reranked:\n",
    "    print(doc['title'])"
   ]
  },
  {
   "cell_type": "code",
   "execution_count": 131,
   "id": "02ffd7d0-187f-4087-91c6-a7f415a77c77",
   "metadata": {
    "tags": []
   },
   "outputs": [],
   "source": [
    "# Pull in more with rerank topk = 5\n",
    "rank_fields = [\"title\", \"text\"] # We'll use the title and text fields for reranking\n",
    "\n",
    "rerank_results = co.rerank(\n",
    "    query=message,\n",
    "    documents=docs_to_rerank,\n",
    "    top_n=5,\n",
    "    model=\"rerank-english-v3.0\",\n",
    "    rank_fields=rank_fields\n",
    ")\n",
    "\n",
    "doc_ids_reranked = [doc_ids[result.index] for result in rerank_results.results]\n",
    "docs_reranked=[vectorstore.docs[doc_id] for doc_id in doc_ids_reranked]"
   ]
  },
  {
   "cell_type": "code",
   "execution_count": 132,
   "id": "6dfd404d-83ae-4289-964e-6946c3f33e4e",
   "metadata": {
    "tags": []
   },
   "outputs": [
    {
     "name": "stdout",
     "output_type": "stream",
     "text": [
      "Leveraging Novel Randomized Clinical Trials of Vitamin D Supplementation in Patients with Colorectal Cancer: Impact on Survival and Anti-Tumor Immunity\n",
      "Novel randomized controlled trials of vitamin D supplementation in patients with colorectal cancer: Impact on survival and biology\n",
      "The Effects of Vitamin D on Mammographic Density and Breast Tissue\n",
      "Project 1:  The Role of Vitamin D in Protecting Against Cachexia in Cancer Patients\n",
      "Vitamin D3, Calcium and Inflammation, Immunomodulation and Colonic Permeability\n"
     ]
    }
   ],
   "source": [
    "for doc in docs_reranked:\n",
    "    print(doc['title'])"
   ]
  },
  {
   "cell_type": "markdown",
   "id": "2ed38d52-a4dc-48d9-865c-8b87d35ba42c",
   "metadata": {},
   "source": [
    "## Pull it together"
   ]
  },
  {
   "cell_type": "code",
   "execution_count": 127,
   "id": "30afd345-5ec0-40be-bbd4-ef3eeb0bcde6",
   "metadata": {
    "tags": []
   },
   "outputs": [],
   "source": [
    "message = \"Can vitamin D fight cancer?\"\n",
    "embedded_documents= vectorstore.retrieve(message,rerank_topk=5)"
   ]
  },
  {
   "cell_type": "code",
   "execution_count": 114,
   "id": "b3332f33-8d60-462f-bd50-5e7a59e71765",
   "metadata": {
    "tags": []
   },
   "outputs": [],
   "source": [
    "# Generate the response\n",
    "response = co.chat_stream(message=message,\n",
    "                          model=\"command-r-plus\",\n",
    "                          documents= embedded_documents\n",
    "                         )"
   ]
  },
  {
   "cell_type": "code",
   "execution_count": 115,
   "id": "b76d0a92-d0da-4a96-a573-a114713747cc",
   "metadata": {
    "tags": []
   },
   "outputs": [
    {
     "name": "stdout",
     "output_type": "stream",
     "text": [
      "While there is evidence that vitamin D possesses anti-neoplastic activity, it is unclear whether vitamin D can fight cancer. Preclinical and epidemiologic data suggest that individuals with higher plasma 25-hydroxyvitamin D [25(OH)D] levels have a lower risk of colorectal cancer (CRC) and improved survival from CRC. However, it is not yet known whether these findings reflect a true causal relationship. Randomized clinical trials are being conducted to test the hypothesis that vitamin D supplementation leads to improved survival in CRC patients. Additionally, there is evidence that vitamin D may play a role in breast density and breast carcinogenesis, but large-scale randomized studies are needed to examine this further.\n",
      "\n",
      "CITATIONS:\n",
      "start=29 end=73 text='vitamin D possesses anti-neoplastic activity' document_ids=['doc_0', 'doc_1']\n",
      "start=125 end=159 text='Preclinical and epidemiologic data' document_ids=['doc_0', 'doc_1']\n",
      "start=173 end=240 text='individuals with higher plasma 25-hydroxyvitamin D [25(OH)D] levels' document_ids=['doc_0', 'doc_1']\n",
      "start=248 end=285 text='lower risk of colorectal cancer (CRC)' document_ids=['doc_0', 'doc_1']\n",
      "start=290 end=317 text='improved survival from CRC.' document_ids=['doc_0', 'doc_1']\n",
      "start=333 end=405 text='not yet known whether these findings reflect a true causal relationship.' document_ids=['doc_0', 'doc_1']\n",
      "start=406 end=432 text='Randomized clinical trials' document_ids=['doc_0', 'doc_1']\n",
      "start=481 end=550 text='vitamin D supplementation leads to improved survival in CRC patients.' document_ids=['doc_0', 'doc_1']\n",
      "start=617 end=657 text='breast density and breast carcinogenesis' document_ids=['doc_2']\n",
      "start=663 end=729 text='large-scale randomized studies are needed to examine this further.' document_ids=['doc_2']\n",
      "\n",
      "DOCUMENTS:\n",
      "{'id': 'doc_0', 'project_id': 'CA205406-06', 'text': 'PROJECT SUMMARY / ABSTRACT\\nAbundant preclinical and epidemiologic data suggest that vitamin D possesses anti-neoplastic activity, and that\\nindividuals with higher plasma 25-hydroxyvitamin D [25(OH)D] levels have lower risk of colorectal cancer (CRC)\\nand improved survival from CRC. Despite compelling evidence implicating vitamin D in CRC, critical questions\\nremain about whether these findings reflect a true causal relationship, and what the biological mechanisms of\\nvitamin D activity are. Our central hypothesis is that vitamin D supplementation to achieve sufficient levels of\\n25(OH)D leads to improved survival in CRC patients, possibly through activation of anti-tumor immunity. We will\\ntest this hypothesis within two novel randomized clinical trials (RCTs) of vitamin D supplementation: a) SOLARIS,\\nthe first phase III RCT of high- vs. low-dose vitamin D3 in combination with chemotherapy in patients with met-\\nastatic CRC (mCRC) that was borne directly out of the SUNSHINE phase II RCT that we completed during the\\ncurrent funding period; and b) RCT of preoperative high-dose vitamin D3 vs. placebo in patients with resectable\\nliver metastases for examination of vitamin D biology in these tumors, which harbor a particularly immunosup-\\npressive tumor microenvironment (TME) and account for a significant proportion of deaths from CRC. We will\\nalso conduct a preclinical trial of vitamin D +/- immune checkpoint inhibitors (ICIs) in a novel mouse model of\\nCRC liver metastasis to explore whether vitamin D can overcome resistance to immunotherapy. In Aim 1, we\\nwill investigate the impact of supplemental vitamin D on plasma 25(OH)D levels and progression-free survival\\n(PFS) among mCRC patients enrolled in the SOLARIS phase III RCT, and explore predictive biomarkers of\\nclinical efficacy. In Aim 2, we will investigate the impact of supplemental vitamin D on the TME of primary colon\\ntumors and liver metastases in patients enrolled on the preoperative vitamin D RCT using spatial transcriptional\\nprofiling and multiplex immunofluorescence. In Aim 3, we will investigate the impact of supplemental vitamin D\\n+/- ICIs on tumor response and anti-tumor immunity in mouse models of microsatellite stable (MSS) CRC with\\nand without liver metastases using multiparameter flow cytometry and single-cell RNA sequencing. In summary,\\nthis translational proposal leverages unprecedented RCTs of vitamin D, cutting-edge technologies, and multidis-\\nciplinary collaborations to extend our previous work and take the next critical steps in understanding vitamin D\\nin CRC. Our findings will lead to incorporation of vitamin D into standard of care and inform new combination\\nstrategies with immunotherapy, which has thus far been ineffective in MSS CRC. Importantly, the global impact\\nof an inexpensive and safe therapy such as vitamin D cannot be underestimated for improving the prognosis of\\nthis lethal disease.', 'title': 'Leveraging Novel Randomized Clinical Trials of Vitamin D Supplementation in Patients with Colorectal Cancer: Impact on Survival and Anti-Tumor Immunity'}\n",
      "{'id': 'doc_1', 'project_id': 'CA205406-01A1', 'text': 'PROJECT SUMMARY / ABSTRACT Abundant preclinical and epidemiologic data suggest that vitamin D possesses anti-neoplastic activity, and that individuals with higher plasma 25-hydroxyvitamin D [25(OH)D] levels have lower risk of colorectal cancer (CRC) and improved survival from CRC. Despite compelling evidence implicating vitamin D in CRC, critical questions remain about whether these findings reflect a true causal relationship, and what the biological mech- anisms of vitamin D activity are. Our central hypothesis is that vitamin D supplementation to achieve sufficient levels of 25(OH)D leads to improved survival in CRC patients and influences several neoplastic pathways that can be exploited as biomarkers of efficacy and targets for novel treatment strategies. We will test this hypothe- sis within two novel randomized clinical trials of vitamin D supplementation: a) a phase II double-blind random- ized trial of high- versus low-dose vitamin D3 in combination with chemotherapy in patients with metastatic CRC, and b) a randomized trial of preoperative high-dose vitamin D3 versus placebo in patients with resectable colon cancer for examination of vitamin D biology in fresh human tumor tissue. We will also lever- age a rich prospective cohort of metastatic CRC patients enrolled in a completed NCI-sponsored phase III trial of chemotherapy (CALGB/SWOG 80405) to further define and validate biomarkers of vitamin D action. In Aim 1, we will determine the impact of supplemental vitamin D on survival of CRC patients, test distinct hypotheses about the vitamin D dose-response relationship, and explore biomarkers of vitamin D status, response, and efficacy. We will investigate whether circulating levels of vitamin D binding protein and tumoral expression of vitamin D receptor, 1α-hydroxylase, and 24-hydroxylase are associated with improved survival within our ran- domized trials, and whether these markers modify the relationship between vitamin D and patient outcome. In Aim 2, we will conduct a precision medicine analysis of vitamin D to elucidate the mechanistic basis for its anti- tumor activity in CRC. We will explore the impact of vitamin D supplementation on tumoral markers of inflam- mation, lymphocytic infiltrates, and inflammatory gene signatures in surgical colectomy specimens from pa- tients treated with high-dose preoperative vitamin D3 versus placebo. We will also perform next generation se- quencing and Nanostring analysis of tumors from CRC patients with high- versus low vitamin D status to identi- fy unique genetic and transcriptional signatures associated with vitamin D-mediated carcinogenesis. In sum- mary, this translational proposal leverages innovative randomized trials of vitamin D to take the next critical steps in understanding vitamin D activity and biology in CRC. Our findings will confirm causality, provide new insights into biomarkers of vitamin D activity, and lead to potential inclusion of vitamin D into standard therapy – including immunotherapy – with the ultimate goal of improving the survival of patients with CRC.', 'title': 'Novel randomized controlled trials of vitamin D supplementation in patients with colorectal cancer: Impact on survival and biology'}\n",
      "{'id': 'doc_2', 'project_id': 'CA178263', 'text': '     DESCRIPTION (provided by applicant): Mammographic density is one of the strongest risk factors for breast cancer. It is predictive of breast cancer risk for at least 10 years in the futue and has been suggested as a surrogate marker of breast cancer risk. Several states now mandate release of mammographic density data to women. However, except for anti-hormonal therapies (e.g., tamoxifen), no interventions have been proven to reduce breast density. Thus, testing promising, well-tolerated interventions that might affect mammographic density is of substantial interest. Several lines of evidence suggest that vitamin D may play a role in breast density and breast carcinogenesis. Vitamin D reduces proliferation and promotes differentiation and apoptosis in breast cells in culture. However, no large-scale randomized studies have examined the impact of vitamin D on mammographic density. We propose to examine the randomized effects vitamin D3 on mammographic breast density in the NIH sponsored VITamin D and OmegA-3 TriaL (VITAL), an ongoing randomized, double blind, trial testing vitamin D3 (2,000 IU/day cholecalciferol) and omega-3 fatty acids (840 mg eicosapentaenoic acid [EPA]+ docosahexaenoic acid [DHA]) in the primary prevention of cancer and cardiovascular disease in a multi-ethnic population of over 24,000 men and women. In this ancillary sub study, mammograms will be obtained on 4000 women age 55-67 years (25% African-American), from baseline (pre-randomization) and after 1 and 4 years of randomized therapy. Centrally processed quantitative mammographic density and texture variation will be measured. We will determine if randomized vitamin D treatment is associated with change in mammographic features, and whether effects are modified by baseline mammographic density, and baseline 25(OH) vitamin D levels. In addition, tissue samples from women in VITAL undergoing breast biopsy/surgery, for both nonmalignant and malignant conditions, will be collected. Quantitative morphological measures, as well as gene expression assays targeting vitamin D activation and breast carcinogenesis pathways, will be performed on collected tissues among women on randomized vitamin D3 compared with placebo. This ancillary study provides a timely opportunity to test comprehensively the effects of vitamin D3 on mammographic features and breast tissue biology in a randomized setting at minimal additional cost.          ', 'title': 'The Effects of Vitamin D on Mammographic Density and Breast Tissue'}\n"
     ]
    }
   ],
   "source": [
    "# Display the response using default of 3 top\n",
    "citations = []\n",
    "cited_documents = []\n",
    "\n",
    "for event in response:\n",
    "    if event.event_type == \"text-generation\":\n",
    "        print(event.text, end=\"\")\n",
    "    elif event.event_type == \"citation-generation\":\n",
    "        citations.extend(event.citations)\n",
    "    elif event.event_type == \"stream-end\":\n",
    "        cited_documents = event.response.documents\n",
    "\n",
    "# Display the citations and source documents\n",
    "if citations:\n",
    "  print(\"\\n\\nCITATIONS:\")\n",
    "  for citation in citations:\n",
    "    print(citation)\n",
    "\n",
    "  print(\"\\nDOCUMENTS:\")\n",
    "  for document in cited_documents:\n",
    "    print(document)"
   ]
  },
  {
   "cell_type": "markdown",
   "id": "be9e5635-e511-418c-ac61-2514634beb2b",
   "metadata": {},
   "source": [
    "## Do more with full tutorial!\n",
    "I encourage you to work through Cohere's full tutorial which explains the steps in more detail. https://cohere.com/blog/rag-chatbot\n"
   ]
  },
  {
   "cell_type": "code",
   "execution_count": null,
   "id": "566c206c-be90-4c68-87db-5799d344eb3c",
   "metadata": {},
   "outputs": [],
   "source": []
  }
 ],
 "metadata": {
  "kernelspec": {
   "display_name": "cohere_demo",
   "language": "python",
   "name": "cohere_demo"
  },
  "language_info": {
   "codemirror_mode": {
    "name": "ipython",
    "version": 3
   },
   "file_extension": ".py",
   "mimetype": "text/x-python",
   "name": "python",
   "nbconvert_exporter": "python",
   "pygments_lexer": "ipython3",
   "version": "3.10.0"
  }
 },
 "nbformat": 4,
 "nbformat_minor": 5
}
